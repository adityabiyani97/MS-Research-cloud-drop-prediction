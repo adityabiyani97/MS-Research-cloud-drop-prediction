{
 "cells": [
  {
   "cell_type": "markdown",
   "metadata": {},
   "source": [
    "# Estimate cloud droplet concentration by predictive learning."
   ]
  },
  {
   "cell_type": "code",
   "execution_count": 1,
   "metadata": {},
   "outputs": [],
   "source": [
    "import numpy as np\n",
    "import pandas as pd\n",
    "%matplotlib inline\n",
    "import matplotlib.pyplot as plt\n",
    "import glob\n",
    "from sklearn.linear_model import LinearRegression"
   ]
  },
  {
   "cell_type": "code",
   "execution_count": 2,
   "metadata": {},
   "outputs": [
    {
     "name": "stderr",
     "output_type": "stream",
     "text": [
      "C:\\ProgramData\\Anaconda3\\lib\\site-packages\\ipykernel_launcher.py:1: FutureWarning: pandas.util.testing is deprecated. Use the functions in the public API at pandas.testing instead.\n",
      "  \"\"\"Entry point for launching an IPython kernel.\n"
     ]
    }
   ],
   "source": [
    "import pandas.util.testing as tm\n",
    "import seaborn as sn"
   ]
  },
  {
   "cell_type": "markdown",
   "metadata": {},
   "source": [
    "Every intrument records observations with a certain frequency. It is important to average the data over the frequency to get find a mean value for it. Also, since it is difficult to pin-point exact location of a droplet over time, we average the data over every minute, assuming that the location will not vary much in a minute.  "
   ]
  },
  {
   "cell_type": "code",
   "execution_count": 3,
   "metadata": {},
   "outputs": [],
   "source": [
    "# This function determines the cloud droplet particle mass and concentration averaged per minute.\n",
    "\n",
    "def CDP(f1):\n",
    "    # dataframe of CDP\n",
    "    df1 = pd.read_csv(f1, skiprows = 65)\n",
    "    cdp_time = df1['Second']\n",
    "    cdp_con = df1['conc(#/L)']\n",
    "\n",
    "    # creating a concentration matrix to calculte volume based on the diameter range. \n",
    "    # units: #/L/um\n",
    "    cdp_bin = np.array(df1.iloc[:, 2:])\n",
    "\n",
    "    # CLOUD MASS (g/cc)\n",
    "\n",
    "    df1['minutes'] = np.array(df1['Second']/60).astype(int)\n",
    "    minutes = df1['minutes']\n",
    "    rho = 1 # g/cc\n",
    "    \n",
    "    # find the range of diameters over which the instrument can record values from the file. \n",
    "    dia_data = np.array([2, 3, 4, 5, 6, 7, 8, 9, 10, 11, 12, 13, 14, 16, 18, 20, 22, \n",
    "                         24, 26, 28, 30, 32, 34, 36, 38, 40, 42, 44, 46, 48, 50])\n",
    "    \n",
    "    # find the width of smaller dia particle with consecutive larger dia particle.\n",
    "    d_width = np.array([(b-a) for a,b in zip(dia_data[::1], dia_data[1::1])]) \n",
    "    d_range = np.ones(cdp_bin.shape)*np.linspace(2, 50, 30) # range of diameters for all the observations.\n",
    "    V = np.pi * d_range**3 / 6 * 1e-12 # range of volume over all diameters from 2um to 50 um. (um = micro-m). units: cc\n",
    "\n",
    "    # units of cdp_bin = #/L/um\n",
    "    cdp_mass_ = np.sum(V * cdp_bin * d_width * 1e-3, axis = 1) # sum all cloud masses over the diameter range for all observations.\n",
    "    df1['liq_water_content (g/cc)'] = cdp_mass_\n",
    "\n",
    "    # group all the observations in that minute for time average over that minute. \n",
    "    min_group = df1.groupby('minutes')\n",
    "\n",
    "    time = []\n",
    "    cdp_conc = []\n",
    "    cdp_mass = []\n",
    "    \n",
    "    # We set the condition that any particle having mass < 1e-7 g/cc is cloud droplet present inside the cloud. \n",
    "    for minute,g in min_group:\n",
    "        time.append(minute)\n",
    "        cdp_conc.append(g.mask(g['liq_water_content (g/cc)']<1e-7).mean()['conc(#/L)'])\n",
    "        cdp_mass.append(g.mask(g['liq_water_content (g/cc)']<1e-7).mean()['liq_water_content (g/cc)'])\n",
    "    \n",
    "    return df1, cdp_mass_, np.array(time), np.array(cdp_conc), np.array(cdp_mass)\n",
    "    "
   ]
  },
  {
   "cell_type": "code",
   "execution_count": 4,
   "metadata": {},
   "outputs": [],
   "source": [
    "# Avraging over time and finding out aerosol concentration outside the cloud, thus, cdp_mass > 1e-7 g/cc filter used.\n",
    "\n",
    "def CCN(f1, f2):\n",
    "    df1 = CDP(f1)[0] \n",
    "    cdp_mass_ = CDP(f1)[1]\n",
    "    \n",
    "    # dataframe of CCN\n",
    "    df2 = pd.read_csv(f2, skiprows = 47)\n",
    "    \n",
    "    # match the data of start and end from the cdp_mass file. \n",
    "\n",
    "    index_start,= np.where(df2['Start_UTC']==df1['Second'].iloc[0])\n",
    "    index_end, = np.where(df2['Start_UTC']==df1['Second'].iloc[-1])\n",
    "\n",
    "    df2 = df2[index_start[0]:index_end[0]+1]\n",
    "\n",
    "    df2['minutes'] = np.array(df2['Start_UTC']/60).astype(int)\n",
    "    df2['liq_water_content (g/cc)'] = cdp_mass_\n",
    "\n",
    "    min_group2 = df2.groupby('minutes')\n",
    "\n",
    "    ccn_conc = []\n",
    "\n",
    "    for minute,g in min_group2:\n",
    "        ccn_conc.append(g.mask(g['liq_water_content (g/cc)']>1e-8).mean()[' CCN_Conc_A'])\n",
    "    \n",
    "    return np.array(ccn_conc)\n"
   ]
  },
  {
   "cell_type": "code",
   "execution_count": 5,
   "metadata": {},
   "outputs": [],
   "source": [
    "# finding updraft mean speed, std deviation and number of droplets in the cloud (ctr). \n",
    "def speed(f1, f3):\n",
    "    df1 = CDP(f1)[0]\n",
    "    cdp_mass_ = CDP(f1)[1]\n",
    "\n",
    "    # dataframe for updraft velocity\n",
    "    df3 = pd.read_csv(f3, delimiter = '\\s+', skiprows = 2, \n",
    "                      names = ['UTC Time (decimal hours)', 'Temp (deg C)', 'Humidity (%RH)', \n",
    "                               'Barometric Press (Pa)', 'North Wind component (m/s)', 'East Wind component (m/s)', \n",
    "                               'GPS Latitude (decimal degrees)', 'GPS Longitude (decimal degrees)', \n",
    "                               'GPS Altitude (decimal degrees)',\n",
    "                               'Aircraft longitudinal inertial velocity (m/s)', 'Aircraft Lateral inertial velocity (m/s)', \n",
    "                               'Aircraft vertical velocity (m/s)', 'Roll (degrees)', 'Pitch (degrees)', 'Yaw/Heading (degrees)', \n",
    "                               'True Air speed [TAS] (m/s)', 'Vertical wind velocity (m/s)',\n",
    "                               'dimensional sideslip angle (degrees)', 'non-dimensional angle-of-attack', \n",
    "                               'non-dimensional sideslip angle', 'Wind status flag']).drop(0) \n",
    "\n",
    "    df3['seconds'] = (np.array(df3['UTC Time (decimal hours)']*3600).astype(int)) # converting timestamp into integer seconds.\n",
    "    df3['v^2'] = df3['Vertical wind velocity (m/s)']**2\n",
    "\n",
    "    df3 = df3.groupby('seconds').mean()\n",
    "    \n",
    "    # match the data of start and end from the cdp_mass file. \n",
    "    \n",
    "    i1, = np.where(df3.index == df1['Second'].iloc[0])\n",
    "    i2, = np.where(df3.index == df1['Second'].iloc[-1])\n",
    "\n",
    "    df3 = df3[i1[0]:i2[0]+1]\n",
    "\n",
    "    df3['minutes'] = np.array(df3.index/60).astype(int)\n",
    "    df3['liq_water_content (g/cc)'] = cdp_mass_\n",
    "    min_group3 = df3.groupby('minutes')\n",
    "\n",
    "    avg = []\n",
    "    std = []\n",
    "    ctr = []\n",
    "    \n",
    "    # std deviation = sqrt(mean(x^2) - (mean(x))^2)\n",
    "    \n",
    "    for m, g in min_group3:\n",
    "            x,x2 = g.mask(g['liq_water_content (g/cc)']<1e-7).mean()[['Vertical wind velocity (m/s)', 'v^2']]\n",
    "            ctr.append(g.mask(g['liq_water_content (g/cc)']<1e-7).count()['Vertical wind velocity (m/s)'])\n",
    "            avg.append(x)\n",
    "            std.append(x2 - x**2)\n",
    "            \n",
    "    return np.array(avg), np.array(std), np.array(ctr)\n"
   ]
  },
  {
   "cell_type": "code",
   "execution_count": 6,
   "metadata": {},
   "outputs": [],
   "source": [
    "# Let's extract the other parameters required for cdp prediction\n",
    "\n",
    "def params(f1, f4):\n",
    "    time = CDP(f1)[2]\n",
    "    df4 = pd.read_csv(f4, delimiter = ',', skiprows = 2, \n",
    "                      names = ['IWG1','Date_Time','Lat','Lon','GPS_MSL_Alt','WGS_84_Alt','Press_Alt','Radar_Alt','Grnd_Spd',\n",
    "                               'True_Airspeed','Indicated_Airspeed','Mach_Number','Vert_Velocity','True_Hdg','Track','Drift',\n",
    "                               'Pitch','Roll','Side_slip','Angle_of_Attack','Ambient_Temp','Dew_Point','Total_Temp','Static_Press',\n",
    "                               'Dynamic_Press','Cabin_Pressure','Wind_speed','Wind_Dir','Vert_Wind_Spd','Solar_Zenith','Sun_Elev_AC',\n",
    "                               'Sun_Az_Grd','Sun_Az_AC','Flag_qc','Flag_ac','Flag_Diluter','Flag_cloud','Flag_cloudP','RH_water',\n",
    "                               'RH_ice','Theta','Cabin_Temperature','Q_Dilution','Q_bypass','D_ratio','Leg_num'])\n",
    "\n",
    "    df4['Date_Time'] = pd.to_datetime(df4['Date_Time']) # convert the give Date_Time object to datetime series for timestamp indexing.\n",
    "    df4['minutes'] = df4['Date_Time'].dt.strftime('%H').astype(int)*60 + df4['Date_Time'].dt.strftime('%M').astype(int)\n",
    "    # above code line is taking Hours index from time stamp converting time to minutes and adding to minutes from timestamp.\n",
    "\n",
    "    df4 = df4.groupby('minutes').mean()\n",
    "\n",
    "    i3, = np.where(df4.index == time[0])\n",
    "    i4, = np.where(df4.index == time[-1])\n",
    "\n",
    "    df4 = df4[i3[0]:i4[0]+1]\n",
    "    \n",
    "    return np.array(df4['GPS_MSL_Alt']), np.array(df4['Ambient_Temp']), np.array(df4['Dew_Point'])"
   ]
  },
  {
   "cell_type": "code",
   "execution_count": 8,
   "metadata": {},
   "outputs": [],
   "source": [
    "# def CRD(f1, f2):\n",
    "#     df1 = CDP(f1)[0]\n",
    "#     df2 = pd.read_csv(f2, skiprows = 96)\n",
    "\n",
    "#     rows = len(df1)\n",
    "#     columns = len(df2.columns)\n",
    "#     arr1 = np.empty((rows, columns-1))\n",
    "#     arr2 = np.array(df1['Second'])[:, None]\n",
    "#     arr3 = np.concatenate((arr2, arr1), axis = 1)\n",
    "\n",
    "#     df3 = pd.DataFrame(arr3, columns = df2.columns)\n",
    "\n",
    "#     df5 = pd.concat([df3,df2]).drop_duplicates(['Second'],keep='last').sort_values('Second').reset_index(drop = True)\n",
    "\n",
    "#     index_start, = np.where(df5['Second']==df1['Second'].iloc[0])[0]    \n",
    "#     index_end, = np.where(df5['Second']==df1['Second'].iloc[-1])[0]\n",
    "\n",
    "#     df6 = df5.iloc[index_start:index_end+1]\n",
    "\n",
    "#     crd_time = df6['Second']\n",
    "#     crd_con = df6['conc(#/L)']\n",
    "\n",
    "#     # creating a concentration matrix to calculte volume based on the diameter range. \n",
    "#     # units: #/L/um\n",
    "#     crd_bin = np.array(df6.iloc[:, 2:])\n",
    "#     # print(crd_bin.shape)\n",
    "\n",
    "#     df6['liq_water_content (g/cc)'] = CDP(f1)[1]\n",
    "\n",
    "#     # Rain MASS (g/cc)\n",
    "\n",
    "#     df6['minutes'] = np.array(df6['Second']/60).astype(int)\n",
    "#     minutes = df6['minutes']\n",
    "#     rho = 1 # g/cc\n",
    "\n",
    "#     data = np.array([5, 15, 25, 35, 45, 55, 65, 75, 85, 95, 105, 115, 125, 135, 145, 155, 165, 175, 185, 195, 205, 225, 245, 265, 285,\n",
    "#          305, 325, 345, 365, 385, 405, 425, 445, 465, 485, 505, 555, 605, 655, 705, 755, 805, 855, 905, 955, 1005, 1105, 1205,\n",
    "#          1305, 1405, 1505, 1605, 1705, 1805, 1905, 2005, 2205, 2405, 2605, 2805, 3005, 3505])\n",
    "\n",
    "#     d_width = np.array([(b-a) for a,b in zip(data[::1], data[1::1])]) # units = um\n",
    "#     d_avg = np.array([(a+b)/2 for a,b in zip(data[::1], data[1::1])]) # units = um\n",
    "\n",
    "#     V = np.pi * d_avg**3 / 6 * 1e-12 # range of volume over all diameters from 5um to 3505 um. (um = micro-m). units: cc\n",
    "\n",
    "#     # units of cdp_bin = #/L/um\n",
    "#     # mass = V * cdp_bin * d_range * 1e-3 (conversion from l to cc) \n",
    "\n",
    "#     crd_mass_ = np.sum(V * crd_bin * d_width * 1e-3, axis = 1) # sum all cloud masses over the diameter range for all observations.\n",
    "#     df6['rain_water_content (g/cc)'] = crd_mass_\n",
    "\n",
    "#     min_group = df6.groupby('minutes')\n",
    "\n",
    "#     crd_conc = []\n",
    "#     crd_mass = []\n",
    "\n",
    "#     for minute,g in min_group:\n",
    "#         crd_conc.append(g.mask(g['liq_water_content (g/cc)']<1e-7).mean()['conc(#/L)'])\n",
    "#         crd_mass.append(g.mask(g['liq_water_content (g/cc)']<1e-7).mean()['rain_water_content (g/cc)'])\n",
    "    \n",
    "#     return crd_conc, crd_mass "
   ]
  },
  {
   "cell_type": "markdown",
   "metadata": {},
   "source": [
    "##### eliminating the concentration bins that represent cloud water as well."
   ]
  },
  {
   "cell_type": "code",
   "execution_count": 9,
   "metadata": {},
   "outputs": [],
   "source": [
    "# adding rain droplet variables to features to see it's contribution to the droplet prediction. \n",
    "\n",
    "def CRD(f1, f2):\n",
    "    df1 = CDP(f1)[0]\n",
    "    df2 = pd.read_csv(f2, skiprows = 96)\n",
    "\n",
    "    rows = len(df1)\n",
    "    columns = len(df2.columns)\n",
    "    arr1 = np.empty((rows, columns-1)) # rows of cdp len and columns of rain file len\n",
    "    arr2 = np.array(df1['Second'])[:, None]\n",
    "    arr3 = np.concatenate((arr2, arr1), axis = 1)\n",
    "    # we need to do an inner join on time to find out the data that is consistent with the CDP files. \n",
    "\n",
    "    df3 = pd.DataFrame(arr3, columns = df2.columns)\n",
    "\n",
    "    df5 = pd.concat([df3,df2]).drop_duplicates(['Second'],keep='last').sort_values('Second').reset_index(drop = True)\n",
    "\n",
    "    index_start, = np.where(df5['Second']==df1['Second'].iloc[0])[0]    \n",
    "    index_end, = np.where(df5['Second']==df1['Second'].iloc[-1])[0]\n",
    "\n",
    "    df6 = df5.iloc[index_start:index_end+1]\n",
    "\n",
    "    crd_time = df6['Second']\n",
    "    crd_con = df6['conc(#/L)']\n",
    "\n",
    "    # creating a concentration matrix to calculte volume based on the diameter range. \n",
    "    # units: #/L/um\n",
    "    crd_bin = np.array(df6.iloc[:, 6:])\n",
    "    crd_bin2 = np.array(df6.iloc[:,2:6])\n",
    "    # print(crd_bin.shape)\n",
    "\n",
    "    df6['liq_water_content (g/cc)'] = CDP(f1)[1]\n",
    "\n",
    "    # Rain MASS (g/cc)\n",
    "    # cloud mass conentration is not a good fit for rain mass analysis thus, calculate rain mass and add a similar filter.\n",
    "\n",
    "    df6['minutes'] = np.array(df6['Second']/60).astype(int)\n",
    "    minutes = df6['minutes']\n",
    "    rho = 1 # g/cc\n",
    "\n",
    "    data1 = np.array([45, 55, 65, 75, 85, 95, 105, 115, 125, 135, 145, 155, 165, 175, 185, 195, 205, 225, 245, 265, 285,\n",
    "         305, 325, 345, 365, 385, 405, 425, 445, 465, 485, 505, 555, 605, 655, 705, 755, 805, 855, 905, 955, 1005, 1105, 1205,\n",
    "         1305, 1405, 1505, 1605, 1705, 1805, 1905, 2005, 2205, 2405, 2605, 2805, 3005, 3505])\n",
    "\n",
    "    data2 = np.array([5, 15, 25, 35, 45])\n",
    "    \n",
    "    d_width = np.array([(b-a) for a,b in zip(data1[::1], data1[1::1])]) # units = um\n",
    "    d_avg = np.array([(a+b)/2 for a,b in zip(data1[::1], data1[1::1])]) # units = um\n",
    "\n",
    "    d_width2 = np.array([(b-a) for a,b in zip(data2[::1], data2[1::1])]) # units = um\n",
    "    crd_con2 = np.sum(crd_bin2 * d_width2, axis = 1)\n",
    "    df6['rain_conc(#/L)'] = crd_con - crd_con2\n",
    "    \n",
    "    V = np.pi * d_avg**3 / 6 * 1e-12 # range of volume over all diameters from 5um to 3505 um. (um = micro-m). units: cc\n",
    "\n",
    "    # units of crd_bin = #/L/um\n",
    "    # mass = V * crd_bin * d_range * 1e-3 (conversion from l to cc) \n",
    "\n",
    "    crd_mass_ = np.sum(V * crd_bin * d_width * 1e-3, axis = 1) # sum all cloud masses over the diameter range for all observations.\n",
    "    df6['rain_water_content (g/cc)'] = crd_mass_\n",
    "\n",
    "    min_group = df6.groupby('minutes')\n",
    "\n",
    "    crd_conc = []\n",
    "    crd_mass = []\n",
    "\n",
    "    for minute,g in min_group:\n",
    "        crd_conc.append(g.mask(g['liq_water_content (g/cc)']<1e-7).mean()['rain_conc(#/L)'])\n",
    "        crd_mass.append(g.mask(g['liq_water_content (g/cc)']<1e-7).mean()['rain_water_content (g/cc)'])\n",
    "    \n",
    "    # we want to limit the concentration to be zero and not negative which might arise due to instrument error.\n",
    "    \n",
    "    return np.clip(crd_conc, 0, None), np.clip(crd_mass, 0, None) "
   ]
  },
  {
   "cell_type": "code",
   "execution_count": 10,
   "metadata": {},
   "outputs": [],
   "source": [
    "path1 = r'C:\\Users\\adity\\MS_Thesis\\Go-Amazon-selected\\cdp'\n",
    "path2 = r'C:\\Users\\adity\\MS_Thesis\\Go-Amazon-selected\\ccn'\n",
    "path3 = r'C:\\Users\\adity\\MS_Thesis\\Go-Amazon-selected\\ppc_velocity'\n",
    "path4 = r'C:\\Users\\adity\\MS_Thesis\\Go-Amazon-selected\\aimms_params'\n",
    "path5 = r'C:\\Users\\adity\\MS_Thesis\\Go-Amazon-selected\\comstock-2dsh'    "
   ]
  },
  {
   "cell_type": "code",
   "execution_count": 11,
   "metadata": {},
   "outputs": [],
   "source": [
    "# glob library from python directly sources data from path mentioned above making it easier to automate file addition to loop.\n",
    "files1 = glob.glob(path1 + '/*.ict')\n",
    "files2 = glob.glob(path2 + '/*.ict')\n",
    "files3 = glob.glob(path3 + '/*.ppc')\n",
    "files4 = glob.glob(path4 + '/*.txt')\n",
    "files5 = glob.glob(path5 + '/*.ict')"
   ]
  },
  {
   "cell_type": "code",
   "execution_count": 12,
   "metadata": {},
   "outputs": [
    {
     "name": "stderr",
     "output_type": "stream",
     "text": [
      "C:\\ProgramData\\Anaconda3\\lib\\site-packages\\ipykernel_launcher.py:32: SettingWithCopyWarning: \n",
      "A value is trying to be set on a copy of a slice from a DataFrame.\n",
      "Try using .loc[row_indexer,col_indexer] = value instead\n",
      "\n",
      "See the caveats in the documentation: https://pandas.pydata.org/pandas-docs/stable/user_guide/indexing.html#returning-a-view-versus-a-copy\n",
      "C:\\ProgramData\\Anaconda3\\lib\\site-packages\\ipykernel_launcher.py:37: SettingWithCopyWarning: \n",
      "A value is trying to be set on a copy of a slice from a DataFrame.\n",
      "Try using .loc[row_indexer,col_indexer] = value instead\n",
      "\n",
      "See the caveats in the documentation: https://pandas.pydata.org/pandas-docs/stable/user_guide/indexing.html#returning-a-view-versus-a-copy\n",
      "C:\\ProgramData\\Anaconda3\\lib\\site-packages\\ipykernel_launcher.py:52: SettingWithCopyWarning: \n",
      "A value is trying to be set on a copy of a slice from a DataFrame.\n",
      "Try using .loc[row_indexer,col_indexer] = value instead\n",
      "\n",
      "See the caveats in the documentation: https://pandas.pydata.org/pandas-docs/stable/user_guide/indexing.html#returning-a-view-versus-a-copy\n",
      "C:\\ProgramData\\Anaconda3\\lib\\site-packages\\ipykernel_launcher.py:60: SettingWithCopyWarning: \n",
      "A value is trying to be set on a copy of a slice from a DataFrame.\n",
      "Try using .loc[row_indexer,col_indexer] = value instead\n",
      "\n",
      "See the caveats in the documentation: https://pandas.pydata.org/pandas-docs/stable/user_guide/indexing.html#returning-a-view-versus-a-copy\n"
     ]
    },
    {
     "name": "stdout",
     "output_type": "stream",
     "text": [
      "Wall time: 21min 39s\n"
     ]
    }
   ],
   "source": [
    "%%time\n",
    "\n",
    "time = []\n",
    "cdp_mass = []\n",
    "cdp_conc = []\n",
    "ccn_conc = []\n",
    "velocity = []\n",
    "alt = []\n",
    "amb_temp = []\n",
    "dew_pt = []\n",
    "vel_std = []\n",
    "ctr = []\n",
    "rain_conc = []\n",
    "rain_mass = []\n",
    "\n",
    "for f1, f2, f3, f4,f5 in zip(files1, files2, files3, files4, files5):\n",
    "    time.append(CDP(f1)[2])\n",
    "    cdp_conc.append(CDP(f1)[3])\n",
    "    cdp_mass.append(CDP(f1)[4])\n",
    "    ccn_conc.append(CCN(f1, f2))\n",
    "    velocity.append(speed(f1, f3)[0])\n",
    "    vel_std.append(speed(f1, f3)[1])\n",
    "    ctr.append(speed(f1, f3)[2])\n",
    "    alt.append(params(f1, f4)[0])\n",
    "    amb_temp.append(params(f1, f4)[1])\n",
    "    dew_pt.append(params(f1, f4)[2])\n",
    "    rain_conc.append(CRD(f1, f5)[0])\n",
    "    rain_mass.append(CRD(f1, f5)[1])\n",
    "    "
   ]
  },
  {
   "cell_type": "code",
   "execution_count": 13,
   "metadata": {},
   "outputs": [
    {
     "data": {
      "text/html": [
       "<div>\n",
       "<style scoped>\n",
       "    .dataframe tbody tr th:only-of-type {\n",
       "        vertical-align: middle;\n",
       "    }\n",
       "\n",
       "    .dataframe tbody tr th {\n",
       "        vertical-align: top;\n",
       "    }\n",
       "\n",
       "    .dataframe thead th {\n",
       "        text-align: right;\n",
       "    }\n",
       "</style>\n",
       "<table border=\"1\" class=\"dataframe\">\n",
       "  <thead>\n",
       "    <tr style=\"text-align: right;\">\n",
       "      <th></th>\n",
       "      <th>time (min)</th>\n",
       "      <th>cdp_conc (#/cc)</th>\n",
       "      <th>cdp_mass (g/cc)</th>\n",
       "      <th>ccn_conc (#/cc)</th>\n",
       "      <th>altitude (m)</th>\n",
       "      <th>ambient_temp (degC)</th>\n",
       "      <th>dew_pt (degC)</th>\n",
       "      <th>Velocity_mean (m/s)</th>\n",
       "      <th>Velocity_std (m/s)</th>\n",
       "      <th>non-nan counter</th>\n",
       "      <th>rain_conc (#/cc)</th>\n",
       "      <th>rain_mass (g/cc)</th>\n",
       "    </tr>\n",
       "  </thead>\n",
       "  <tbody>\n",
       "    <tr>\n",
       "      <th>0</th>\n",
       "      <td>1034</td>\n",
       "      <td>NaN</td>\n",
       "      <td>NaN</td>\n",
       "      <td>137.243333</td>\n",
       "      <td>224.683333</td>\n",
       "      <td>30.938333</td>\n",
       "      <td>22.230000</td>\n",
       "      <td>NaN</td>\n",
       "      <td>NaN</td>\n",
       "      <td>0</td>\n",
       "      <td>NaN</td>\n",
       "      <td>NaN</td>\n",
       "    </tr>\n",
       "    <tr>\n",
       "      <th>1</th>\n",
       "      <td>1035</td>\n",
       "      <td>NaN</td>\n",
       "      <td>NaN</td>\n",
       "      <td>210.223333</td>\n",
       "      <td>541.033333</td>\n",
       "      <td>27.391667</td>\n",
       "      <td>21.965000</td>\n",
       "      <td>NaN</td>\n",
       "      <td>NaN</td>\n",
       "      <td>0</td>\n",
       "      <td>NaN</td>\n",
       "      <td>NaN</td>\n",
       "    </tr>\n",
       "    <tr>\n",
       "      <th>2</th>\n",
       "      <td>1036</td>\n",
       "      <td>NaN</td>\n",
       "      <td>NaN</td>\n",
       "      <td>246.625000</td>\n",
       "      <td>646.816667</td>\n",
       "      <td>26.233333</td>\n",
       "      <td>21.955000</td>\n",
       "      <td>NaN</td>\n",
       "      <td>NaN</td>\n",
       "      <td>0</td>\n",
       "      <td>NaN</td>\n",
       "      <td>NaN</td>\n",
       "    </tr>\n",
       "    <tr>\n",
       "      <th>3</th>\n",
       "      <td>1037</td>\n",
       "      <td>NaN</td>\n",
       "      <td>NaN</td>\n",
       "      <td>174.991667</td>\n",
       "      <td>788.783333</td>\n",
       "      <td>25.651667</td>\n",
       "      <td>20.320000</td>\n",
       "      <td>NaN</td>\n",
       "      <td>NaN</td>\n",
       "      <td>0</td>\n",
       "      <td>NaN</td>\n",
       "      <td>NaN</td>\n",
       "    </tr>\n",
       "    <tr>\n",
       "      <th>4</th>\n",
       "      <td>1038</td>\n",
       "      <td>525.690667</td>\n",
       "      <td>1.919149e-07</td>\n",
       "      <td>156.452830</td>\n",
       "      <td>963.566667</td>\n",
       "      <td>23.841667</td>\n",
       "      <td>20.235000</td>\n",
       "      <td>0.3695</td>\n",
       "      <td>0.532001</td>\n",
       "      <td>3</td>\n",
       "      <td>0.0</td>\n",
       "      <td>0.0</td>\n",
       "    </tr>\n",
       "    <tr>\n",
       "      <th>...</th>\n",
       "      <td>...</td>\n",
       "      <td>...</td>\n",
       "      <td>...</td>\n",
       "      <td>...</td>\n",
       "      <td>...</td>\n",
       "      <td>...</td>\n",
       "      <td>...</td>\n",
       "      <td>...</td>\n",
       "      <td>...</td>\n",
       "      <td>...</td>\n",
       "      <td>...</td>\n",
       "      <td>...</td>\n",
       "    </tr>\n",
       "    <tr>\n",
       "      <th>2767</th>\n",
       "      <td>1070</td>\n",
       "      <td>NaN</td>\n",
       "      <td>NaN</td>\n",
       "      <td>894.228333</td>\n",
       "      <td>462.633333</td>\n",
       "      <td>26.268333</td>\n",
       "      <td>21.531667</td>\n",
       "      <td>NaN</td>\n",
       "      <td>NaN</td>\n",
       "      <td>0</td>\n",
       "      <td>NaN</td>\n",
       "      <td>NaN</td>\n",
       "    </tr>\n",
       "    <tr>\n",
       "      <th>2768</th>\n",
       "      <td>1071</td>\n",
       "      <td>NaN</td>\n",
       "      <td>NaN</td>\n",
       "      <td>1035.605000</td>\n",
       "      <td>469.016667</td>\n",
       "      <td>26.423333</td>\n",
       "      <td>21.386667</td>\n",
       "      <td>NaN</td>\n",
       "      <td>NaN</td>\n",
       "      <td>0</td>\n",
       "      <td>NaN</td>\n",
       "      <td>NaN</td>\n",
       "    </tr>\n",
       "    <tr>\n",
       "      <th>2769</th>\n",
       "      <td>1072</td>\n",
       "      <td>NaN</td>\n",
       "      <td>NaN</td>\n",
       "      <td>998.516667</td>\n",
       "      <td>465.116667</td>\n",
       "      <td>26.498333</td>\n",
       "      <td>20.763333</td>\n",
       "      <td>NaN</td>\n",
       "      <td>NaN</td>\n",
       "      <td>0</td>\n",
       "      <td>NaN</td>\n",
       "      <td>NaN</td>\n",
       "    </tr>\n",
       "    <tr>\n",
       "      <th>2770</th>\n",
       "      <td>1073</td>\n",
       "      <td>NaN</td>\n",
       "      <td>NaN</td>\n",
       "      <td>1011.040000</td>\n",
       "      <td>359.950000</td>\n",
       "      <td>27.771667</td>\n",
       "      <td>21.426667</td>\n",
       "      <td>NaN</td>\n",
       "      <td>NaN</td>\n",
       "      <td>0</td>\n",
       "      <td>NaN</td>\n",
       "      <td>NaN</td>\n",
       "    </tr>\n",
       "    <tr>\n",
       "      <th>2771</th>\n",
       "      <td>1074</td>\n",
       "      <td>NaN</td>\n",
       "      <td>NaN</td>\n",
       "      <td>791.801754</td>\n",
       "      <td>186.586207</td>\n",
       "      <td>30.162069</td>\n",
       "      <td>22.394828</td>\n",
       "      <td>NaN</td>\n",
       "      <td>NaN</td>\n",
       "      <td>0</td>\n",
       "      <td>NaN</td>\n",
       "      <td>NaN</td>\n",
       "    </tr>\n",
       "  </tbody>\n",
       "</table>\n",
       "<p>2772 rows × 12 columns</p>\n",
       "</div>"
      ],
      "text/plain": [
       "      time (min)  cdp_conc (#/cc)  cdp_mass (g/cc)  ccn_conc (#/cc)  \\\n",
       "0           1034              NaN              NaN       137.243333   \n",
       "1           1035              NaN              NaN       210.223333   \n",
       "2           1036              NaN              NaN       246.625000   \n",
       "3           1037              NaN              NaN       174.991667   \n",
       "4           1038       525.690667     1.919149e-07       156.452830   \n",
       "...          ...              ...              ...              ...   \n",
       "2767        1070              NaN              NaN       894.228333   \n",
       "2768        1071              NaN              NaN      1035.605000   \n",
       "2769        1072              NaN              NaN       998.516667   \n",
       "2770        1073              NaN              NaN      1011.040000   \n",
       "2771        1074              NaN              NaN       791.801754   \n",
       "\n",
       "      altitude (m)  ambient_temp (degC)  dew_pt (degC)  Velocity_mean (m/s)  \\\n",
       "0       224.683333            30.938333      22.230000                  NaN   \n",
       "1       541.033333            27.391667      21.965000                  NaN   \n",
       "2       646.816667            26.233333      21.955000                  NaN   \n",
       "3       788.783333            25.651667      20.320000                  NaN   \n",
       "4       963.566667            23.841667      20.235000               0.3695   \n",
       "...            ...                  ...            ...                  ...   \n",
       "2767    462.633333            26.268333      21.531667                  NaN   \n",
       "2768    469.016667            26.423333      21.386667                  NaN   \n",
       "2769    465.116667            26.498333      20.763333                  NaN   \n",
       "2770    359.950000            27.771667      21.426667                  NaN   \n",
       "2771    186.586207            30.162069      22.394828                  NaN   \n",
       "\n",
       "      Velocity_std (m/s)  non-nan counter  rain_conc (#/cc)  rain_mass (g/cc)  \n",
       "0                    NaN                0               NaN               NaN  \n",
       "1                    NaN                0               NaN               NaN  \n",
       "2                    NaN                0               NaN               NaN  \n",
       "3                    NaN                0               NaN               NaN  \n",
       "4               0.532001                3               0.0               0.0  \n",
       "...                  ...              ...               ...               ...  \n",
       "2767                 NaN                0               NaN               NaN  \n",
       "2768                 NaN                0               NaN               NaN  \n",
       "2769                 NaN                0               NaN               NaN  \n",
       "2770                 NaN                0               NaN               NaN  \n",
       "2771                 NaN                0               NaN               NaN  \n",
       "\n",
       "[2772 rows x 12 columns]"
      ]
     },
     "execution_count": 13,
     "metadata": {},
     "output_type": "execute_result"
    }
   ],
   "source": [
    "df = pd.DataFrame(data = {'time (min)':np.array(np.concatenate(time)), 'cdp_conc (#/cc)':np.concatenate(cdp_conc)/1000, \n",
    "                          'cdp_mass (g/cc)':np.concatenate(cdp_mass), 'ccn_conc (#/cc)':np.concatenate(ccn_conc), \n",
    "                          'altitude (m)':np.concatenate(alt), 'ambient_temp (degC)':np.concatenate(amb_temp), \n",
    "                          'dew_pt (degC)':np.concatenate(dew_pt), 'Velocity_mean (m/s)': np.concatenate(velocity), \n",
    "                          'Velocity_std (m/s)': np.concatenate(vel_std), 'non-nan counter': np.concatenate(ctr),\n",
    "                          'rain_conc (#/cc)': np.concatenate(rain_conc)/1000, 'rain_mass (g/cc)': np.concatenate(rain_mass)\n",
    "                         }, index = range(len(np.concatenate(cdp_mass))))\n",
    "df"
   ]
  },
  {
   "cell_type": "code",
   "execution_count": 14,
   "metadata": {},
   "outputs": [
    {
     "data": {
      "text/html": [
       "<div>\n",
       "<style scoped>\n",
       "    .dataframe tbody tr th:only-of-type {\n",
       "        vertical-align: middle;\n",
       "    }\n",
       "\n",
       "    .dataframe tbody tr th {\n",
       "        vertical-align: top;\n",
       "    }\n",
       "\n",
       "    .dataframe thead th {\n",
       "        text-align: right;\n",
       "    }\n",
       "</style>\n",
       "<table border=\"1\" class=\"dataframe\">\n",
       "  <thead>\n",
       "    <tr style=\"text-align: right;\">\n",
       "      <th></th>\n",
       "      <th>time (min)</th>\n",
       "      <th>cdp_conc (#/cc)</th>\n",
       "      <th>cdp_mass (g/cc)</th>\n",
       "      <th>ccn_conc (#/cc)</th>\n",
       "      <th>altitude (m)</th>\n",
       "      <th>ambient_temp (degC)</th>\n",
       "      <th>dew_pt (degC)</th>\n",
       "      <th>Velocity_mean (m/s)</th>\n",
       "      <th>Velocity_std (m/s)</th>\n",
       "      <th>non-nan counter</th>\n",
       "      <th>rain_conc (#/cc)</th>\n",
       "      <th>rain_mass (g/cc)</th>\n",
       "    </tr>\n",
       "  </thead>\n",
       "  <tbody>\n",
       "    <tr>\n",
       "      <th>4</th>\n",
       "      <td>1038</td>\n",
       "      <td>525.690667</td>\n",
       "      <td>1.919149e-07</td>\n",
       "      <td>156.452830</td>\n",
       "      <td>963.566667</td>\n",
       "      <td>23.841667</td>\n",
       "      <td>20.235000</td>\n",
       "      <td>0.369500</td>\n",
       "      <td>0.532001</td>\n",
       "      <td>3</td>\n",
       "      <td>0.000000</td>\n",
       "      <td>0.000000e+00</td>\n",
       "    </tr>\n",
       "    <tr>\n",
       "      <th>5</th>\n",
       "      <td>1039</td>\n",
       "      <td>368.329500</td>\n",
       "      <td>1.454731e-07</td>\n",
       "      <td>303.037500</td>\n",
       "      <td>1088.200000</td>\n",
       "      <td>23.096667</td>\n",
       "      <td>18.541667</td>\n",
       "      <td>0.256750</td>\n",
       "      <td>0.603507</td>\n",
       "      <td>2</td>\n",
       "      <td>0.000005</td>\n",
       "      <td>0.000000e+00</td>\n",
       "    </tr>\n",
       "    <tr>\n",
       "      <th>6</th>\n",
       "      <td>1040</td>\n",
       "      <td>102.763850</td>\n",
       "      <td>3.613746e-07</td>\n",
       "      <td>157.620000</td>\n",
       "      <td>1106.700000</td>\n",
       "      <td>22.728333</td>\n",
       "      <td>19.518333</td>\n",
       "      <td>-3.667917</td>\n",
       "      <td>3.206158</td>\n",
       "      <td>6</td>\n",
       "      <td>0.006904</td>\n",
       "      <td>7.544186e-12</td>\n",
       "    </tr>\n",
       "    <tr>\n",
       "      <th>7</th>\n",
       "      <td>1041</td>\n",
       "      <td>91.984218</td>\n",
       "      <td>3.244988e-07</td>\n",
       "      <td>141.256250</td>\n",
       "      <td>1101.366667</td>\n",
       "      <td>22.521667</td>\n",
       "      <td>20.270000</td>\n",
       "      <td>-2.146750</td>\n",
       "      <td>4.388065</td>\n",
       "      <td>22</td>\n",
       "      <td>0.013811</td>\n",
       "      <td>1.702631e-11</td>\n",
       "    </tr>\n",
       "    <tr>\n",
       "      <th>10</th>\n",
       "      <td>1044</td>\n",
       "      <td>104.497209</td>\n",
       "      <td>3.478628e-07</td>\n",
       "      <td>115.815385</td>\n",
       "      <td>1106.300000</td>\n",
       "      <td>22.250000</td>\n",
       "      <td>21.186667</td>\n",
       "      <td>-2.470514</td>\n",
       "      <td>4.703326</td>\n",
       "      <td>35</td>\n",
       "      <td>0.000000</td>\n",
       "      <td>5.770725e-11</td>\n",
       "    </tr>\n",
       "    <tr>\n",
       "      <th>...</th>\n",
       "      <td>...</td>\n",
       "      <td>...</td>\n",
       "      <td>...</td>\n",
       "      <td>...</td>\n",
       "      <td>...</td>\n",
       "      <td>...</td>\n",
       "      <td>...</td>\n",
       "      <td>...</td>\n",
       "      <td>...</td>\n",
       "      <td>...</td>\n",
       "      <td>...</td>\n",
       "      <td>...</td>\n",
       "    </tr>\n",
       "    <tr>\n",
       "      <th>2736</th>\n",
       "      <td>1039</td>\n",
       "      <td>336.723125</td>\n",
       "      <td>1.939796e-06</td>\n",
       "      <td>252.366667</td>\n",
       "      <td>5410.750000</td>\n",
       "      <td>-4.995000</td>\n",
       "      <td>-12.473333</td>\n",
       "      <td>2.724875</td>\n",
       "      <td>3.456326</td>\n",
       "      <td>8</td>\n",
       "      <td>0.856624</td>\n",
       "      <td>0.000000e+00</td>\n",
       "    </tr>\n",
       "    <tr>\n",
       "      <th>2738</th>\n",
       "      <td>1041</td>\n",
       "      <td>64.223822</td>\n",
       "      <td>3.003772e-07</td>\n",
       "      <td>137.113043</td>\n",
       "      <td>5669.283333</td>\n",
       "      <td>-6.058333</td>\n",
       "      <td>-9.260000</td>\n",
       "      <td>2.410944</td>\n",
       "      <td>0.979870</td>\n",
       "      <td>9</td>\n",
       "      <td>0.282132</td>\n",
       "      <td>5.079032e-08</td>\n",
       "    </tr>\n",
       "    <tr>\n",
       "      <th>2740</th>\n",
       "      <td>1043</td>\n",
       "      <td>84.528400</td>\n",
       "      <td>7.576585e-07</td>\n",
       "      <td>162.792453</td>\n",
       "      <td>5809.600000</td>\n",
       "      <td>-8.041667</td>\n",
       "      <td>-10.925000</td>\n",
       "      <td>1.837099</td>\n",
       "      <td>0.308029</td>\n",
       "      <td>4</td>\n",
       "      <td>0.000021</td>\n",
       "      <td>1.862939e-11</td>\n",
       "    </tr>\n",
       "    <tr>\n",
       "      <th>2741</th>\n",
       "      <td>1044</td>\n",
       "      <td>73.727075</td>\n",
       "      <td>5.766109e-07</td>\n",
       "      <td>155.333333</td>\n",
       "      <td>5816.183333</td>\n",
       "      <td>-8.351667</td>\n",
       "      <td>-12.308333</td>\n",
       "      <td>3.934125</td>\n",
       "      <td>1.480924</td>\n",
       "      <td>4</td>\n",
       "      <td>0.000468</td>\n",
       "      <td>7.077102e-10</td>\n",
       "    </tr>\n",
       "    <tr>\n",
       "      <th>2742</th>\n",
       "      <td>1045</td>\n",
       "      <td>34.903100</td>\n",
       "      <td>1.519382e-07</td>\n",
       "      <td>186.536207</td>\n",
       "      <td>5780.066667</td>\n",
       "      <td>-8.015000</td>\n",
       "      <td>-13.271667</td>\n",
       "      <td>1.089500</td>\n",
       "      <td>0.017775</td>\n",
       "      <td>1</td>\n",
       "      <td>0.000000</td>\n",
       "      <td>0.000000e+00</td>\n",
       "    </tr>\n",
       "  </tbody>\n",
       "</table>\n",
       "<p>581 rows × 12 columns</p>\n",
       "</div>"
      ],
      "text/plain": [
       "      time (min)  cdp_conc (#/cc)  cdp_mass (g/cc)  ccn_conc (#/cc)  \\\n",
       "4           1038       525.690667     1.919149e-07       156.452830   \n",
       "5           1039       368.329500     1.454731e-07       303.037500   \n",
       "6           1040       102.763850     3.613746e-07       157.620000   \n",
       "7           1041        91.984218     3.244988e-07       141.256250   \n",
       "10          1044       104.497209     3.478628e-07       115.815385   \n",
       "...          ...              ...              ...              ...   \n",
       "2736        1039       336.723125     1.939796e-06       252.366667   \n",
       "2738        1041        64.223822     3.003772e-07       137.113043   \n",
       "2740        1043        84.528400     7.576585e-07       162.792453   \n",
       "2741        1044        73.727075     5.766109e-07       155.333333   \n",
       "2742        1045        34.903100     1.519382e-07       186.536207   \n",
       "\n",
       "      altitude (m)  ambient_temp (degC)  dew_pt (degC)  Velocity_mean (m/s)  \\\n",
       "4       963.566667            23.841667      20.235000             0.369500   \n",
       "5      1088.200000            23.096667      18.541667             0.256750   \n",
       "6      1106.700000            22.728333      19.518333            -3.667917   \n",
       "7      1101.366667            22.521667      20.270000            -2.146750   \n",
       "10     1106.300000            22.250000      21.186667            -2.470514   \n",
       "...            ...                  ...            ...                  ...   \n",
       "2736   5410.750000            -4.995000     -12.473333             2.724875   \n",
       "2738   5669.283333            -6.058333      -9.260000             2.410944   \n",
       "2740   5809.600000            -8.041667     -10.925000             1.837099   \n",
       "2741   5816.183333            -8.351667     -12.308333             3.934125   \n",
       "2742   5780.066667            -8.015000     -13.271667             1.089500   \n",
       "\n",
       "      Velocity_std (m/s)  non-nan counter  rain_conc (#/cc)  rain_mass (g/cc)  \n",
       "4               0.532001                3          0.000000      0.000000e+00  \n",
       "5               0.603507                2          0.000005      0.000000e+00  \n",
       "6               3.206158                6          0.006904      7.544186e-12  \n",
       "7               4.388065               22          0.013811      1.702631e-11  \n",
       "10              4.703326               35          0.000000      5.770725e-11  \n",
       "...                  ...              ...               ...               ...  \n",
       "2736            3.456326                8          0.856624      0.000000e+00  \n",
       "2738            0.979870                9          0.282132      5.079032e-08  \n",
       "2740            0.308029                4          0.000021      1.862939e-11  \n",
       "2741            1.480924                4          0.000468      7.077102e-10  \n",
       "2742            0.017775                1          0.000000      0.000000e+00  \n",
       "\n",
       "[581 rows x 12 columns]"
      ]
     },
     "execution_count": 14,
     "metadata": {},
     "output_type": "execute_result"
    }
   ],
   "source": [
    "# remove all the rows where the cdp_conc is Nan. \n",
    "df1 = df.iloc[np.where(np.logical_not(np.isnan(df['cdp_conc (#/cc)'])))[0]]\n",
    "df1"
   ]
  },
  {
   "cell_type": "code",
   "execution_count": 15,
   "metadata": {},
   "outputs": [],
   "source": [
    "df1.to_csv('raw_data_with_rain.csv', index = False)"
   ]
  },
  {
   "cell_type": "markdown",
   "metadata": {},
   "source": [
    "#### Adding RH to the feature matirx from dew point and ambient temperatures."
   ]
  },
  {
   "cell_type": "code",
   "execution_count": 16,
   "metadata": {},
   "outputs": [
    {
     "data": {
      "text/html": [
       "<div>\n",
       "<style scoped>\n",
       "    .dataframe tbody tr th:only-of-type {\n",
       "        vertical-align: middle;\n",
       "    }\n",
       "\n",
       "    .dataframe tbody tr th {\n",
       "        vertical-align: top;\n",
       "    }\n",
       "\n",
       "    .dataframe thead th {\n",
       "        text-align: right;\n",
       "    }\n",
       "</style>\n",
       "<table border=\"1\" class=\"dataframe\">\n",
       "  <thead>\n",
       "    <tr style=\"text-align: right;\">\n",
       "      <th></th>\n",
       "      <th>time (min)</th>\n",
       "      <th>cdp_conc (#/cc)</th>\n",
       "      <th>cdp_mass (g/cc)</th>\n",
       "      <th>ccn_conc (#/cc)</th>\n",
       "      <th>altitude (m)</th>\n",
       "      <th>ambient_temp (degC)</th>\n",
       "      <th>dew_pt (degC)</th>\n",
       "      <th>Velocity_mean (m/s)</th>\n",
       "      <th>Velocity_std (m/s)</th>\n",
       "      <th>non-nan counter</th>\n",
       "      <th>rain_conc (#/cc)</th>\n",
       "      <th>rain_mass (g/cc)</th>\n",
       "      <th>RH (%)</th>\n",
       "    </tr>\n",
       "  </thead>\n",
       "  <tbody>\n",
       "    <tr>\n",
       "      <th>4</th>\n",
       "      <td>1038</td>\n",
       "      <td>525.690667</td>\n",
       "      <td>1.919149e-07</td>\n",
       "      <td>156.452830</td>\n",
       "      <td>963.566667</td>\n",
       "      <td>23.841667</td>\n",
       "      <td>20.235000</td>\n",
       "      <td>0.369500</td>\n",
       "      <td>0.532001</td>\n",
       "      <td>3</td>\n",
       "      <td>0.000000</td>\n",
       "      <td>0.000000e+00</td>\n",
       "      <td>80.261559</td>\n",
       "    </tr>\n",
       "    <tr>\n",
       "      <th>5</th>\n",
       "      <td>1039</td>\n",
       "      <td>368.329500</td>\n",
       "      <td>1.454731e-07</td>\n",
       "      <td>303.037500</td>\n",
       "      <td>1088.200000</td>\n",
       "      <td>23.096667</td>\n",
       "      <td>18.541667</td>\n",
       "      <td>0.256750</td>\n",
       "      <td>0.603507</td>\n",
       "      <td>2</td>\n",
       "      <td>0.000005</td>\n",
       "      <td>0.000000e+00</td>\n",
       "      <td>75.557647</td>\n",
       "    </tr>\n",
       "    <tr>\n",
       "      <th>6</th>\n",
       "      <td>1040</td>\n",
       "      <td>102.763850</td>\n",
       "      <td>3.613746e-07</td>\n",
       "      <td>157.620000</td>\n",
       "      <td>1106.700000</td>\n",
       "      <td>22.728333</td>\n",
       "      <td>19.518333</td>\n",
       "      <td>-3.667917</td>\n",
       "      <td>3.206158</td>\n",
       "      <td>6</td>\n",
       "      <td>0.006904</td>\n",
       "      <td>7.544186e-12</td>\n",
       "      <td>82.114718</td>\n",
       "    </tr>\n",
       "    <tr>\n",
       "      <th>7</th>\n",
       "      <td>1041</td>\n",
       "      <td>91.984218</td>\n",
       "      <td>3.244988e-07</td>\n",
       "      <td>141.256250</td>\n",
       "      <td>1101.366667</td>\n",
       "      <td>22.521667</td>\n",
       "      <td>20.270000</td>\n",
       "      <td>-2.146750</td>\n",
       "      <td>4.388065</td>\n",
       "      <td>22</td>\n",
       "      <td>0.013811</td>\n",
       "      <td>1.702631e-11</td>\n",
       "      <td>87.115427</td>\n",
       "    </tr>\n",
       "    <tr>\n",
       "      <th>10</th>\n",
       "      <td>1044</td>\n",
       "      <td>104.497209</td>\n",
       "      <td>3.478628e-07</td>\n",
       "      <td>115.815385</td>\n",
       "      <td>1106.300000</td>\n",
       "      <td>22.250000</td>\n",
       "      <td>21.186667</td>\n",
       "      <td>-2.470514</td>\n",
       "      <td>4.703326</td>\n",
       "      <td>35</td>\n",
       "      <td>0.000000</td>\n",
       "      <td>5.770725e-11</td>\n",
       "      <td>93.708633</td>\n",
       "    </tr>\n",
       "    <tr>\n",
       "      <th>...</th>\n",
       "      <td>...</td>\n",
       "      <td>...</td>\n",
       "      <td>...</td>\n",
       "      <td>...</td>\n",
       "      <td>...</td>\n",
       "      <td>...</td>\n",
       "      <td>...</td>\n",
       "      <td>...</td>\n",
       "      <td>...</td>\n",
       "      <td>...</td>\n",
       "      <td>...</td>\n",
       "      <td>...</td>\n",
       "      <td>...</td>\n",
       "    </tr>\n",
       "    <tr>\n",
       "      <th>2736</th>\n",
       "      <td>1039</td>\n",
       "      <td>336.723125</td>\n",
       "      <td>1.939796e-06</td>\n",
       "      <td>252.366667</td>\n",
       "      <td>5410.750000</td>\n",
       "      <td>-4.995000</td>\n",
       "      <td>-12.473333</td>\n",
       "      <td>2.724875</td>\n",
       "      <td>3.456326</td>\n",
       "      <td>8</td>\n",
       "      <td>0.856624</td>\n",
       "      <td>0.000000e+00</td>\n",
       "      <td>55.785574</td>\n",
       "    </tr>\n",
       "    <tr>\n",
       "      <th>2738</th>\n",
       "      <td>1041</td>\n",
       "      <td>64.223822</td>\n",
       "      <td>3.003772e-07</td>\n",
       "      <td>137.113043</td>\n",
       "      <td>5669.283333</td>\n",
       "      <td>-6.058333</td>\n",
       "      <td>-9.260000</td>\n",
       "      <td>2.410944</td>\n",
       "      <td>0.979870</td>\n",
       "      <td>9</td>\n",
       "      <td>0.282132</td>\n",
       "      <td>5.079032e-08</td>\n",
       "      <td>78.071209</td>\n",
       "    </tr>\n",
       "    <tr>\n",
       "      <th>2740</th>\n",
       "      <td>1043</td>\n",
       "      <td>84.528400</td>\n",
       "      <td>7.576585e-07</td>\n",
       "      <td>162.792453</td>\n",
       "      <td>5809.600000</td>\n",
       "      <td>-8.041667</td>\n",
       "      <td>-10.925000</td>\n",
       "      <td>1.837099</td>\n",
       "      <td>0.308029</td>\n",
       "      <td>4</td>\n",
       "      <td>0.000021</td>\n",
       "      <td>1.862939e-11</td>\n",
       "      <td>79.737525</td>\n",
       "    </tr>\n",
       "    <tr>\n",
       "      <th>2741</th>\n",
       "      <td>1044</td>\n",
       "      <td>73.727075</td>\n",
       "      <td>5.766109e-07</td>\n",
       "      <td>155.333333</td>\n",
       "      <td>5816.183333</td>\n",
       "      <td>-8.351667</td>\n",
       "      <td>-12.308333</td>\n",
       "      <td>3.934125</td>\n",
       "      <td>1.480924</td>\n",
       "      <td>4</td>\n",
       "      <td>0.000468</td>\n",
       "      <td>7.077102e-10</td>\n",
       "      <td>73.125344</td>\n",
       "    </tr>\n",
       "    <tr>\n",
       "      <th>2742</th>\n",
       "      <td>1045</td>\n",
       "      <td>34.903100</td>\n",
       "      <td>1.519382e-07</td>\n",
       "      <td>186.536207</td>\n",
       "      <td>5780.066667</td>\n",
       "      <td>-8.015000</td>\n",
       "      <td>-13.271667</td>\n",
       "      <td>1.089500</td>\n",
       "      <td>0.017775</td>\n",
       "      <td>1</td>\n",
       "      <td>0.000000</td>\n",
       "      <td>0.000000e+00</td>\n",
       "      <td>65.903545</td>\n",
       "    </tr>\n",
       "  </tbody>\n",
       "</table>\n",
       "<p>581 rows × 13 columns</p>\n",
       "</div>"
      ],
      "text/plain": [
       "      time (min)  cdp_conc (#/cc)  cdp_mass (g/cc)  ccn_conc (#/cc)  \\\n",
       "4           1038       525.690667     1.919149e-07       156.452830   \n",
       "5           1039       368.329500     1.454731e-07       303.037500   \n",
       "6           1040       102.763850     3.613746e-07       157.620000   \n",
       "7           1041        91.984218     3.244988e-07       141.256250   \n",
       "10          1044       104.497209     3.478628e-07       115.815385   \n",
       "...          ...              ...              ...              ...   \n",
       "2736        1039       336.723125     1.939796e-06       252.366667   \n",
       "2738        1041        64.223822     3.003772e-07       137.113043   \n",
       "2740        1043        84.528400     7.576585e-07       162.792453   \n",
       "2741        1044        73.727075     5.766109e-07       155.333333   \n",
       "2742        1045        34.903100     1.519382e-07       186.536207   \n",
       "\n",
       "      altitude (m)  ambient_temp (degC)  dew_pt (degC)  Velocity_mean (m/s)  \\\n",
       "4       963.566667            23.841667      20.235000             0.369500   \n",
       "5      1088.200000            23.096667      18.541667             0.256750   \n",
       "6      1106.700000            22.728333      19.518333            -3.667917   \n",
       "7      1101.366667            22.521667      20.270000            -2.146750   \n",
       "10     1106.300000            22.250000      21.186667            -2.470514   \n",
       "...            ...                  ...            ...                  ...   \n",
       "2736   5410.750000            -4.995000     -12.473333             2.724875   \n",
       "2738   5669.283333            -6.058333      -9.260000             2.410944   \n",
       "2740   5809.600000            -8.041667     -10.925000             1.837099   \n",
       "2741   5816.183333            -8.351667     -12.308333             3.934125   \n",
       "2742   5780.066667            -8.015000     -13.271667             1.089500   \n",
       "\n",
       "      Velocity_std (m/s)  non-nan counter  rain_conc (#/cc)  rain_mass (g/cc)  \\\n",
       "4               0.532001                3          0.000000      0.000000e+00   \n",
       "5               0.603507                2          0.000005      0.000000e+00   \n",
       "6               3.206158                6          0.006904      7.544186e-12   \n",
       "7               4.388065               22          0.013811      1.702631e-11   \n",
       "10              4.703326               35          0.000000      5.770725e-11   \n",
       "...                  ...              ...               ...               ...   \n",
       "2736            3.456326                8          0.856624      0.000000e+00   \n",
       "2738            0.979870                9          0.282132      5.079032e-08   \n",
       "2740            0.308029                4          0.000021      1.862939e-11   \n",
       "2741            1.480924                4          0.000468      7.077102e-10   \n",
       "2742            0.017775                1          0.000000      0.000000e+00   \n",
       "\n",
       "         RH (%)  \n",
       "4     80.261559  \n",
       "5     75.557647  \n",
       "6     82.114718  \n",
       "7     87.115427  \n",
       "10    93.708633  \n",
       "...         ...  \n",
       "2736  55.785574  \n",
       "2738  78.071209  \n",
       "2740  79.737525  \n",
       "2741  73.125344  \n",
       "2742  65.903545  \n",
       "\n",
       "[581 rows x 13 columns]"
      ]
     },
     "execution_count": 16,
     "metadata": {},
     "output_type": "execute_result"
    }
   ],
   "source": [
    "A = 4.6543\n",
    "B = 1435.264\n",
    "C = -64.848 \n",
    "\n",
    "# temp is in Celsius.\n",
    "# T is ambient temperature and TD is dew point temperature. \n",
    "\n",
    "def RH(T, TD):\n",
    "#     PP = np.exp(A - B/(Amb_temp+C))\n",
    "#     VP = np.exp(A - B/(Dew_temp+C))\n",
    "    return np.array(100*(np.exp((17.625*TD)/(243.04+TD))/np.exp((17.625*T)/(243.04+T))))\n",
    "\n",
    "rh = RH(df1['ambient_temp (degC)'], df1['dew_pt (degC)'])\n",
    "\n",
    "df2 = df1.copy(deep = True)\n",
    "df2['RH (%)'] = rh\n",
    "df2"
   ]
  },
  {
   "cell_type": "code",
   "execution_count": 17,
   "metadata": {},
   "outputs": [],
   "source": [
    "# saving the file in csv format to avoid rerun of script to calculate the values.  \n",
    "df2.to_csv('clean_data_with_rain.csv', index = False)"
   ]
  },
  {
   "cell_type": "markdown",
   "metadata": {},
   "source": [
    "## Pinsky Correlation\n"
   ]
  },
  {
   "cell_type": "code",
   "execution_count": 18,
   "metadata": {},
   "outputs": [],
   "source": [
    "# parameters\n",
    "\n",
    "A=8.07131\n",
    "B=1730.63\n",
    "C=233.426\n",
    "l=2260000 #J/kg\n",
    "a_cond=0.022 #W/m/K\n",
    "a_water=5.5575 #W/m/K\n",
    "D=0.242*10**-4 #m^2/s\n",
    "Ra=287 #J/deg/kg\n",
    "Rv=461 #J/deg/kg\n",
    "qv=0.038 #kg/kg\n",
    "rhow=1000 #kg/m3\n",
    "rhoa=1.225 #kg/m3\n",
    "g=9.8 #m2/s\n",
    "cp=1000 #J/kg\n",
    "C1=1.058 "
   ]
  },
  {
   "cell_type": "code",
   "execution_count": 19,
   "metadata": {},
   "outputs": [],
   "source": [
    "def vaporpressure(temp):\n",
    "    p=10**(A-(B)/(C+temp))\n",
    "    p=p*133.322\n",
    "    return p #in pascals\n",
    "\n",
    "def constants(temp):\n",
    "    vp=vaporpressure(temp-273.15)\n",
    "    k=(1.52E-11)*(temp)**3-(4.8574E-8)*(temp)**2+1.0184E-04*(temp)-3.9333E-04\n",
    "    F=(rhow*(l)**2/k/Rv/(temp)**2)+(rhow*Rv*(temp)/vp/D)\n",
    "    A1=(g/Ra/temp*((l*Ra/(cp*Rv*temp))-1))\n",
    "    A2=1/qv+((l)**2/cp/Rv/(temp)**2)\n",
    "    return k,F,A1,A2\n",
    "\n",
    "def C3(temp):\n",
    "    k,F,A1,A2=constants(temp)\n",
    "    a=C1*(F*A1/3)**0.75\n",
    "    b=(3*rhoa/4/np.pi/rhow/A2)**0.5\n",
    "    return a*b/10\n",
    "\n",
    "def CDC_pinsky(temp,No,v,k):\n",
    "    C=C3(temp)\n",
    "    a=C**(2*k/(2+k))\n",
    "    b=No**(2/(2+k))\n",
    "    c=np.abs(v)**(3*k/(4+2*k))\n",
    "    return a*b*c\n",
    "\n",
    "def Smax(temp,No,v,k):\n",
    "    C=C3(temp)\n",
    "    a=C**(2/(2+k))\n",
    "    b=No**(-1/(2+k))\n",
    "    c=np.abs(v)**(3/(4+2*k))\n",
    "    return a*b*c "
   ]
  },
  {
   "cell_type": "markdown",
   "metadata": {},
   "source": [
    "#### Covariance table to understand the feature dependence on each other."
   ]
  },
  {
   "cell_type": "code",
   "execution_count": 21,
   "metadata": {},
   "outputs": [
    {
     "data": {
      "image/png": "[encoded data removed]",
      "text/plain": [
       "<Figure size 576x360 with 2 Axes>"
      ]
     },
     "metadata": {
      "needs_background": "light"
     },
     "output_type": "display_data"
    }
   ],
   "source": [
    "''' We use the pearson coefficient correlation to eastimate the relation, thus assuming that the data is\n",
    "normally distributed and are linearly related.'''\n",
    "\n",
    "a = df2.drop(columns = ['ambient_temp (degC)', 'dew_pt (degC)', 'non-nan counter']).corr(method = 'pearson')\n",
    "sn.heatmap(a, cmap = 'rocket_r', center = 1, annot = True)\n",
    "plt.rcParams[\"figure.figsize\"] = (10, 8)\n",
    "plt.show()\n"
   ]
  },
  {
   "cell_type": "markdown",
   "metadata": {},
   "source": [
    "#### Linear Regression calculations"
   ]
  },
  {
   "cell_type": "code",
   "execution_count": 22,
   "metadata": {},
   "outputs": [
    {
     "name": "stdout",
     "output_type": "stream",
     "text": [
      "R^2: 0.604\n",
      "Intercept: 0.0\n",
      "coefficients: \n",
      "[ 5.44194471e-01  9.94950035e+07 -1.99640250e+01  1.08261020e+01\n",
      " -3.06951404e-02  3.05172347e-01 -9.72406925e+00 -8.41029741e+03]\n"
     ]
    }
   ],
   "source": [
    "# 'X' is the feature matrix of all the independent variables.\n",
    "\n",
    "X = np.vstack((np.array(df2['ccn_conc (#/cc)']), \n",
    "               np.array(df2['cdp_mass (g/cc)']), \n",
    "               np.array(df2['Velocity_mean (m/s)']), \n",
    "               np.array(df2['Velocity_std (m/s)']), \n",
    "               np.array(df2['altitude (m)']), \n",
    "               np.array(df2['RH (%)']),\n",
    "               np.array(df2['rain_conc (#/cc)']),\n",
    "               np.array(df2['rain_mass (g/cc)'])\n",
    "              )).T\n",
    "\n",
    "y = np.array(df2['cdp_conc (#/cc)'])\n",
    "\n",
    "reg = LinearRegression(fit_intercept = False).fit(X, y)\n",
    " \n",
    "print(f'R^2: {reg.score(X, y):1.3f}')\n",
    "print(f'Intercept: {reg.intercept_}')\n",
    "print(f'coefficients: \\n{reg.coef_}')\n"
   ]
  },
  {
   "cell_type": "markdown",
   "metadata": {},
   "source": [
    "#### Analysis plots with analytical, observed and predicted values."
   ]
  },
  {
   "cell_type": "code",
   "execution_count": 23,
   "metadata": {},
   "outputs": [
    {
     "name": "stdout",
     "output_type": "stream",
     "text": [
      "Analytical vs Observed regression R^2: 0.445\n",
      "Predicted vs Observed regression R^2: 0.488\n"
     ]
    }
   ],
   "source": [
    "cdp_pinsky = np.array(CDC_pinsky(df2['ambient_temp (degC)'] + 273.15, df2['ccn_conc (#/cc)'], df2['Velocity_std (m/s)'], k = 0.5))\n",
    "\n",
    "x1 = np.array(df2['cdp_conc (#/cc)'])[:, None] # observed output\n",
    "x2 = np.array(cdp_pinsky)[:, None] # analytical output\n",
    "x3 = np.array(reg.predict(X))[:, None] # Feature Matrix (F.R)\n",
    "\n",
    "reg2 = LinearRegression(fit_intercept = False).fit(x1, x2)\n",
    "reg3 = LinearRegression(fit_intercept = False).fit(x1, x3)\n",
    "\n",
    "print(f'Analytical vs Observed regression R^2: {reg2.score(x1, x2):1.3f}')\n",
    "print(f'Predicted vs Observed regression R^2: {reg3.score(x1, x3):1.3f}')"
   ]
  },
  {
   "cell_type": "code",
   "execution_count": 36,
   "metadata": {},
   "outputs": [
    {
     "data": {
      "image/png": "[encoded data removed]",
      "text/plain": [
       "<Figure size 576x432 with 1 Axes>"
      ]
     },
     "metadata": {
      "needs_background": "light"
     },
     "output_type": "display_data"
    },
    {
     "data": {
      "image/png": "[encoded data removed]",
      "text/plain": [
       "<Figure size 576x432 with 1 Axes>"
      ]
     },
     "metadata": {
      "needs_background": "light"
     },
     "output_type": "display_data"
    }
   ],
   "source": [
    "plt.figure(figsize = (8, 6))\n",
    "plt.loglog(x1, x2, 'k.', label = 'Analytical')\n",
    "plt.loglog(x1, reg2.predict(x1), label = 'Reg fit')\n",
    "plt.xlabel('observed value of cdp_conc (#/cc)')\n",
    "plt.ylabel('Analytical value (Pinsky) of cdp_conc (#/cc)')\n",
    "plt.legend()\n",
    "plt.title('Pinsky vs Observed')\n",
    "plt.grid()\n",
    "plt.show()\n",
    "\n",
    "plt.figure(figsize = (8, 6))\n",
    "plt.loglog(x1,x3, 'k.', label = 'Predicted')\n",
    "plt.loglog(x1,reg3.predict(x1), label = 'Reg fit')\n",
    "plt.legend()\n",
    "plt.title('Predicted vs Observed')\n",
    "plt.xlabel('Observed cdp conc #/cc')\n",
    "plt.ylabel('Predicted cdp conc #/cc')\n",
    "plt.grid()\n",
    "plt.show()"
   ]
  },
  {
   "cell_type": "markdown",
   "metadata": {},
   "source": [
    "#### Isolating data based on rain and no-rain"
   ]
  },
  {
   "cell_type": "code",
   "execution_count": 37,
   "metadata": {},
   "outputs": [
    {
     "data": {
      "text/html": [
       "<div>\n",
       "<style scoped>\n",
       "    .dataframe tbody tr th:only-of-type {\n",
       "        vertical-align: middle;\n",
       "    }\n",
       "\n",
       "    .dataframe tbody tr th {\n",
       "        vertical-align: top;\n",
       "    }\n",
       "\n",
       "    .dataframe thead th {\n",
       "        text-align: right;\n",
       "    }\n",
       "</style>\n",
       "<table border=\"1\" class=\"dataframe\">\n",
       "  <thead>\n",
       "    <tr style=\"text-align: right;\">\n",
       "      <th></th>\n",
       "      <th>time (min)</th>\n",
       "      <th>cdp_conc (#/cc)</th>\n",
       "      <th>cdp_mass (g/cc)</th>\n",
       "      <th>ccn_conc (#/cc)</th>\n",
       "      <th>altitude (m)</th>\n",
       "      <th>ambient_temp (degC)</th>\n",
       "      <th>dew_pt (degC)</th>\n",
       "      <th>Velocity_mean (m/s)</th>\n",
       "      <th>Velocity_std (m/s)</th>\n",
       "      <th>non-nan counter</th>\n",
       "      <th>rain_conc (#/cc)</th>\n",
       "      <th>rain_mass (g/cc)</th>\n",
       "      <th>RH (%)</th>\n",
       "    </tr>\n",
       "  </thead>\n",
       "  <tbody>\n",
       "    <tr>\n",
       "      <th>0</th>\n",
       "      <td>1038</td>\n",
       "      <td>525.690667</td>\n",
       "      <td>1.919149e-07</td>\n",
       "      <td>156.452830</td>\n",
       "      <td>963.566667</td>\n",
       "      <td>23.841667</td>\n",
       "      <td>20.235000</td>\n",
       "      <td>0.369500</td>\n",
       "      <td>0.532001</td>\n",
       "      <td>3</td>\n",
       "      <td>0.000000</td>\n",
       "      <td>0.000000e+00</td>\n",
       "      <td>80.261559</td>\n",
       "    </tr>\n",
       "    <tr>\n",
       "      <th>1</th>\n",
       "      <td>1039</td>\n",
       "      <td>368.329500</td>\n",
       "      <td>1.454731e-07</td>\n",
       "      <td>303.037500</td>\n",
       "      <td>1088.200000</td>\n",
       "      <td>23.096667</td>\n",
       "      <td>18.541667</td>\n",
       "      <td>0.256750</td>\n",
       "      <td>0.603507</td>\n",
       "      <td>2</td>\n",
       "      <td>0.000005</td>\n",
       "      <td>0.000000e+00</td>\n",
       "      <td>75.557647</td>\n",
       "    </tr>\n",
       "    <tr>\n",
       "      <th>2</th>\n",
       "      <td>1040</td>\n",
       "      <td>102.763850</td>\n",
       "      <td>3.613746e-07</td>\n",
       "      <td>157.620000</td>\n",
       "      <td>1106.700000</td>\n",
       "      <td>22.728333</td>\n",
       "      <td>19.518333</td>\n",
       "      <td>-3.667917</td>\n",
       "      <td>3.206158</td>\n",
       "      <td>6</td>\n",
       "      <td>0.006904</td>\n",
       "      <td>7.544186e-12</td>\n",
       "      <td>82.114718</td>\n",
       "    </tr>\n",
       "    <tr>\n",
       "      <th>3</th>\n",
       "      <td>1041</td>\n",
       "      <td>91.984218</td>\n",
       "      <td>3.244988e-07</td>\n",
       "      <td>141.256250</td>\n",
       "      <td>1101.366667</td>\n",
       "      <td>22.521667</td>\n",
       "      <td>20.270000</td>\n",
       "      <td>-2.146750</td>\n",
       "      <td>4.388065</td>\n",
       "      <td>22</td>\n",
       "      <td>0.013811</td>\n",
       "      <td>1.702631e-11</td>\n",
       "      <td>87.115427</td>\n",
       "    </tr>\n",
       "    <tr>\n",
       "      <th>4</th>\n",
       "      <td>1044</td>\n",
       "      <td>104.497209</td>\n",
       "      <td>3.478628e-07</td>\n",
       "      <td>115.815385</td>\n",
       "      <td>1106.300000</td>\n",
       "      <td>22.250000</td>\n",
       "      <td>21.186667</td>\n",
       "      <td>-2.470514</td>\n",
       "      <td>4.703326</td>\n",
       "      <td>35</td>\n",
       "      <td>0.000000</td>\n",
       "      <td>5.770725e-11</td>\n",
       "      <td>93.708633</td>\n",
       "    </tr>\n",
       "    <tr>\n",
       "      <th>...</th>\n",
       "      <td>...</td>\n",
       "      <td>...</td>\n",
       "      <td>...</td>\n",
       "      <td>...</td>\n",
       "      <td>...</td>\n",
       "      <td>...</td>\n",
       "      <td>...</td>\n",
       "      <td>...</td>\n",
       "      <td>...</td>\n",
       "      <td>...</td>\n",
       "      <td>...</td>\n",
       "      <td>...</td>\n",
       "      <td>...</td>\n",
       "    </tr>\n",
       "    <tr>\n",
       "      <th>576</th>\n",
       "      <td>1039</td>\n",
       "      <td>336.723125</td>\n",
       "      <td>1.939796e-06</td>\n",
       "      <td>252.366667</td>\n",
       "      <td>5410.750000</td>\n",
       "      <td>-4.995000</td>\n",
       "      <td>-12.473333</td>\n",
       "      <td>2.724875</td>\n",
       "      <td>3.456326</td>\n",
       "      <td>8</td>\n",
       "      <td>0.856624</td>\n",
       "      <td>0.000000e+00</td>\n",
       "      <td>55.785574</td>\n",
       "    </tr>\n",
       "    <tr>\n",
       "      <th>577</th>\n",
       "      <td>1041</td>\n",
       "      <td>64.223822</td>\n",
       "      <td>3.003772e-07</td>\n",
       "      <td>137.113043</td>\n",
       "      <td>5669.283333</td>\n",
       "      <td>-6.058333</td>\n",
       "      <td>-9.260000</td>\n",
       "      <td>2.410944</td>\n",
       "      <td>0.979870</td>\n",
       "      <td>9</td>\n",
       "      <td>0.282132</td>\n",
       "      <td>5.079032e-08</td>\n",
       "      <td>78.071209</td>\n",
       "    </tr>\n",
       "    <tr>\n",
       "      <th>578</th>\n",
       "      <td>1043</td>\n",
       "      <td>84.528400</td>\n",
       "      <td>7.576585e-07</td>\n",
       "      <td>162.792453</td>\n",
       "      <td>5809.600000</td>\n",
       "      <td>-8.041667</td>\n",
       "      <td>-10.925000</td>\n",
       "      <td>1.837099</td>\n",
       "      <td>0.308029</td>\n",
       "      <td>4</td>\n",
       "      <td>0.000021</td>\n",
       "      <td>1.862939e-11</td>\n",
       "      <td>79.737525</td>\n",
       "    </tr>\n",
       "    <tr>\n",
       "      <th>579</th>\n",
       "      <td>1044</td>\n",
       "      <td>73.727075</td>\n",
       "      <td>5.766109e-07</td>\n",
       "      <td>155.333333</td>\n",
       "      <td>5816.183333</td>\n",
       "      <td>-8.351667</td>\n",
       "      <td>-12.308333</td>\n",
       "      <td>3.934125</td>\n",
       "      <td>1.480924</td>\n",
       "      <td>4</td>\n",
       "      <td>0.000468</td>\n",
       "      <td>7.077102e-10</td>\n",
       "      <td>73.125344</td>\n",
       "    </tr>\n",
       "    <tr>\n",
       "      <th>580</th>\n",
       "      <td>1045</td>\n",
       "      <td>34.903100</td>\n",
       "      <td>1.519382e-07</td>\n",
       "      <td>186.536207</td>\n",
       "      <td>5780.066667</td>\n",
       "      <td>-8.015000</td>\n",
       "      <td>-13.271667</td>\n",
       "      <td>1.089500</td>\n",
       "      <td>0.017775</td>\n",
       "      <td>1</td>\n",
       "      <td>0.000000</td>\n",
       "      <td>0.000000e+00</td>\n",
       "      <td>65.903545</td>\n",
       "    </tr>\n",
       "  </tbody>\n",
       "</table>\n",
       "<p>581 rows × 13 columns</p>\n",
       "</div>"
      ],
      "text/plain": [
       "     time (min)  cdp_conc (#/cc)  cdp_mass (g/cc)  ccn_conc (#/cc)  \\\n",
       "0          1038       525.690667     1.919149e-07       156.452830   \n",
       "1          1039       368.329500     1.454731e-07       303.037500   \n",
       "2          1040       102.763850     3.613746e-07       157.620000   \n",
       "3          1041        91.984218     3.244988e-07       141.256250   \n",
       "4          1044       104.497209     3.478628e-07       115.815385   \n",
       "..          ...              ...              ...              ...   \n",
       "576        1039       336.723125     1.939796e-06       252.366667   \n",
       "577        1041        64.223822     3.003772e-07       137.113043   \n",
       "578        1043        84.528400     7.576585e-07       162.792453   \n",
       "579        1044        73.727075     5.766109e-07       155.333333   \n",
       "580        1045        34.903100     1.519382e-07       186.536207   \n",
       "\n",
       "     altitude (m)  ambient_temp (degC)  dew_pt (degC)  Velocity_mean (m/s)  \\\n",
       "0      963.566667            23.841667      20.235000             0.369500   \n",
       "1     1088.200000            23.096667      18.541667             0.256750   \n",
       "2     1106.700000            22.728333      19.518333            -3.667917   \n",
       "3     1101.366667            22.521667      20.270000            -2.146750   \n",
       "4     1106.300000            22.250000      21.186667            -2.470514   \n",
       "..            ...                  ...            ...                  ...   \n",
       "576   5410.750000            -4.995000     -12.473333             2.724875   \n",
       "577   5669.283333            -6.058333      -9.260000             2.410944   \n",
       "578   5809.600000            -8.041667     -10.925000             1.837099   \n",
       "579   5816.183333            -8.351667     -12.308333             3.934125   \n",
       "580   5780.066667            -8.015000     -13.271667             1.089500   \n",
       "\n",
       "     Velocity_std (m/s)  non-nan counter  rain_conc (#/cc)  rain_mass (g/cc)  \\\n",
       "0              0.532001                3          0.000000      0.000000e+00   \n",
       "1              0.603507                2          0.000005      0.000000e+00   \n",
       "2              3.206158                6          0.006904      7.544186e-12   \n",
       "3              4.388065               22          0.013811      1.702631e-11   \n",
       "4              4.703326               35          0.000000      5.770725e-11   \n",
       "..                  ...              ...               ...               ...   \n",
       "576            3.456326                8          0.856624      0.000000e+00   \n",
       "577            0.979870                9          0.282132      5.079032e-08   \n",
       "578            0.308029                4          0.000021      1.862939e-11   \n",
       "579            1.480924                4          0.000468      7.077102e-10   \n",
       "580            0.017775                1          0.000000      0.000000e+00   \n",
       "\n",
       "        RH (%)  \n",
       "0    80.261559  \n",
       "1    75.557647  \n",
       "2    82.114718  \n",
       "3    87.115427  \n",
       "4    93.708633  \n",
       "..         ...  \n",
       "576  55.785574  \n",
       "577  78.071209  \n",
       "578  79.737525  \n",
       "579  73.125344  \n",
       "580  65.903545  \n",
       "\n",
       "[581 rows x 13 columns]"
      ]
     },
     "execution_count": 37,
     "metadata": {},
     "output_type": "execute_result"
    }
   ],
   "source": [
    "df3 = pd.read_csv('clean_data_with_rain.csv')\n",
    "df3"
   ]
  },
  {
   "cell_type": "markdown",
   "metadata": {},
   "source": [
    "#### Neural Network design"
   ]
  },
  {
   "cell_type": "markdown",
   "metadata": {},
   "source": [
    "1. Create the features matrix and the labels.\n",
    "2. Scale the features to 0-1 range.\n",
    "3. perform the k-fold validation as we donot have big-data.\n",
    "4. Fit both the models through a pipeline\n",
    "5. check you fit through the validation score (you need it to be minimum).\n"
   ]
  },
  {
   "cell_type": "code",
   "execution_count": 40,
   "metadata": {},
   "outputs": [],
   "source": [
    "from sklearn import preprocessing\n",
    "from sklearn.pipeline import Pipeline\n",
    "from sklearn.model_selection import KFold\n",
    "from sklearn.neural_network import MLPRegressor\n",
    "from sklearn.model_selection import train_test_split"
   ]
  },
  {
   "cell_type": "code",
   "execution_count": 96,
   "metadata": {},
   "outputs": [
    {
     "name": "stdout",
     "output_type": "stream",
     "text": [
      "0.5630347244671539 0.43446202122176825\n",
      "0.5642774150577394 0.32486288873586444\n",
      "0.5405180047426332 -0.1596158884298997\n",
      "0.6588290890794861 0.1887369578767265\n",
      "0.644413320565686 0.13236394633223902\n"
     ]
    }
   ],
   "source": [
    "X = np.vstack((np.array(df2['ccn_conc (#/cc)']), \n",
    "               np.array(df2['cdp_mass (g/cc)']), \n",
    "               np.array(df2['Velocity_mean (m/s)']), \n",
    "               np.array(df2['Velocity_std (m/s)']), \n",
    "               np.array(df2['altitude (m)']), \n",
    "               np.array(df2['RH (%)']),\n",
    "               np.array(df2['rain_conc (#/cc)']),\n",
    "#                np.array(df2['rain_mass (g/cc)'])\n",
    "              )).T\n",
    "\n",
    "y = np.array(df2['cdp_conc (#/cc)'])\n",
    "\n",
    "# scaler = preprocessing.StandardScaler() \n",
    "\n",
    "# scaler = preprocessing.MinMaxScaler()\n",
    "model =  MLPRegressor(hidden_layer_sizes=(6,6), max_iter = 150, activation='relu', \n",
    "                      solver='lbfgs', alpha = 0.05, learning_rate = 'adaptive') \n",
    "\n",
    "pipe = Pipeline([\n",
    "#     ('scale', scaler),\n",
    "    ('NN', model)])\n",
    "\n",
    "kf = KFold(n_splits=5)\n",
    "\n",
    "for train, test in kf.split(X):\n",
    "    pipe.fit(X[train], y[train])\n",
    "    print(pipe.score(X[train], y[train]), pipe.score(X[test], y[test]))"
   ]
  },
  {
   "cell_type": "code",
   "execution_count": 97,
   "metadata": {},
   "outputs": [
    {
     "name": "stdout",
     "output_type": "stream",
     "text": [
      "[-2.99202176  0.128383   -5.82252816  0.26660719  0.13424987]\n",
      "Accuracy: -1.66 (+/- 4.84)\n"
     ]
    }
   ],
   "source": [
    "from sklearn.model_selection import cross_val_score\n",
    "\n",
    "scores = cross_val_score(pipe, X, y, cv=5)\n",
    "print(scores)\n",
    "print(f\"Accuracy: {scores.mean():0.2f} (+/- {scores.std() * 2:0.2f})\")"
   ]
  },
  {
   "cell_type": "code",
   "execution_count": 98,
   "metadata": {},
   "outputs": [
    {
     "data": {
      "text/plain": [
       "dict_keys(['memory', 'steps', 'verbose', 'NN', 'NN__activation', 'NN__alpha', 'NN__batch_size', 'NN__beta_1', 'NN__beta_2', 'NN__early_stopping', 'NN__epsilon', 'NN__hidden_layer_sizes', 'NN__learning_rate', 'NN__learning_rate_init', 'NN__max_iter', 'NN__momentum', 'NN__n_iter_no_change', 'NN__nesterovs_momentum', 'NN__power_t', 'NN__random_state', 'NN__shuffle', 'NN__solver', 'NN__tol', 'NN__validation_fraction', 'NN__verbose', 'NN__warm_start'])"
      ]
     },
     "execution_count": 98,
     "metadata": {},
     "output_type": "execute_result"
    }
   ],
   "source": [
    "pipe.get_params().keys()\n"
   ]
  },
  {
   "cell_type": "code",
   "execution_count": 99,
   "metadata": {},
   "outputs": [],
   "source": [
    "parameter_space = {\n",
    "    'NN__hidden_layer_sizes': [(6,), (5,2), (6,6), (12,15)],\n",
    "    'NN__alpha': [0.0001, 0.05],\n",
    "    'NN__learning_rate': ['constant','adaptive'],\n",
    "}"
   ]
  },
  {
   "cell_type": "code",
   "execution_count": 100,
   "metadata": {},
   "outputs": [
    {
     "name": "stderr",
     "output_type": "stream",
     "text": [
      "C:\\ProgramData\\Anaconda3\\lib\\site-packages\\sklearn\\model_selection\\_split.py:1978: FutureWarning: The default value of cv will change from 3 to 5 in version 0.22. Specify it explicitly to silence this warning.\n",
      "  warnings.warn(CV_WARNING, FutureWarning)\n"
     ]
    },
    {
     "name": "stdout",
     "output_type": "stream",
     "text": [
      "{'NN__alpha': 0.0001, 'NN__hidden_layer_sizes': (6,), 'NN__learning_rate': 'adaptive'}\n"
     ]
    }
   ],
   "source": [
    "from sklearn.model_selection import GridSearchCV\n",
    "\n",
    "clf = GridSearchCV(pipe, parameter_space)\n",
    "clf.fit(X[train], y[train])\n",
    "\n",
    "print(clf.best_params_)"
   ]
  },
  {
   "cell_type": "code",
   "execution_count": 101,
   "metadata": {},
   "outputs": [
    {
     "name": "stdout",
     "output_type": "stream",
     "text": [
      "[ 0.55774318  0.69854905  0.664129   -0.01645855  0.62311818]\n",
      "Accuracy: 0.51 (+/- 0.53)\n",
      "[0.53986528 0.73074722 0.54963132 0.43859686 0.61821044]\n",
      "Accuracy: 0.58 (+/- 0.19)\n",
      "[0.59908779 0.65320793 0.6141343  0.41771779 0.67312239]\n",
      "Accuracy: 0.59 (+/- 0.18)\n",
      "[0.54607803 0.66421659 0.57563456 0.44250252 0.62704616]\n",
      "Accuracy: 0.57 (+/- 0.15)\n",
      "[-0.01369326  0.68183877  0.58727723  0.45290308  0.65981191]\n",
      "Accuracy: 0.47 (+/- 0.51)\n",
      "[ 0.54949486  0.68826923  0.54969405 -0.01645854  0.59750655]\n",
      "Accuracy: 0.47 (+/- 0.50)\n",
      "[0.45044835 0.73802101 0.56971355 0.47359646 0.6507085 ]\n",
      "Accuracy: 0.58 (+/- 0.22)\n",
      "[ 0.55847965  0.72229035  0.5750797  -0.01645851  0.64920439]\n",
      "Accuracy: 0.50 (+/- 0.53)\n",
      "[ 0.60189553  0.73147452 -0.00449818  0.46458917  0.62789785]\n",
      "Accuracy: 0.48 (+/- 0.52)\n",
      "[ 0.52684416  0.67940638  0.58652785  0.49066628 -0.00746533]\n",
      "Accuracy: 0.46 (+/- 0.48)\n",
      "[0.60317332 0.67160215 0.57443511 0.4653892  0.62858093]\n",
      "Accuracy: 0.59 (+/- 0.14)\n",
      "[ 0.54233213  0.71222574 -0.00449055  0.42664419  0.60821355]\n",
      "Accuracy: 0.46 (+/- 0.50)\n",
      "[0.55214123 0.72275146 0.64377987 0.49574888 0.59647124]\n",
      "Accuracy: 0.60 (+/- 0.16)\n",
      "[0.53204766 0.75420704 0.56113581 0.42966372 0.59858159]\n",
      "Accuracy: 0.58 (+/- 0.21)\n",
      "[0.54776663 0.6552814  0.63775057 0.43781284 0.59946992]\n",
      "Accuracy: 0.58 (+/- 0.16)\n"
     ]
    }
   ],
   "source": [
    "from sklearn.model_selection import ShuffleSplit\n",
    "\n",
    "for i in range(15):\n",
    "    n_samples = X.shape[0]\n",
    "    cv = ShuffleSplit(n_splits=5, test_size=0.2, random_state=0)\n",
    "    scores = cross_val_score(model, X, y, cv=cv)\n",
    "\n",
    "    print(scores)\n",
    "    print(f\"Accuracy: {scores.mean():0.2f} (+/- {scores.std() * 2:0.2f})\")"
   ]
  },
  {
   "cell_type": "code",
   "execution_count": 107,
   "metadata": {},
   "outputs": [
    {
     "ename": "AttributeError",
     "evalue": "'ShuffleSplit' object has no attribute 'metrics'",
     "output_type": "error",
     "traceback": [
      "\u001b[1;31m---------------------------------------------------------------------------\u001b[0m",
      "\u001b[1;31mAttributeError\u001b[0m                            Traceback (most recent call last)",
      "\u001b[1;32m<ipython-input-107-7b77aa1e5758>\u001b[0m in \u001b[0;36m<module>\u001b[1;34m\u001b[0m\n\u001b[0;32m      4\u001b[0m \u001b[0mcv\u001b[0m \u001b[1;33m=\u001b[0m \u001b[0mShuffleSplit\u001b[0m\u001b[1;33m(\u001b[0m\u001b[0mn_splits\u001b[0m\u001b[1;33m=\u001b[0m\u001b[1;36m5\u001b[0m\u001b[1;33m,\u001b[0m \u001b[0mtest_size\u001b[0m\u001b[1;33m=\u001b[0m\u001b[1;36m0.2\u001b[0m\u001b[1;33m,\u001b[0m \u001b[0mrandom_state\u001b[0m\u001b[1;33m=\u001b[0m\u001b[1;36m0\u001b[0m\u001b[1;33m)\u001b[0m\u001b[1;33m\u001b[0m\u001b[1;33m\u001b[0m\u001b[0m\n\u001b[0;32m      5\u001b[0m \u001b[1;31m# cross_val_predict(model, X, y, cv=cv)\u001b[0m\u001b[1;33m\u001b[0m\u001b[1;33m\u001b[0m\u001b[1;33m\u001b[0m\u001b[0m\n\u001b[1;32m----> 6\u001b[1;33m \u001b[0mprint\u001b[0m\u001b[1;33m(\u001b[0m\u001b[0mcv\u001b[0m\u001b[1;33m.\u001b[0m\u001b[0mmetrics\u001b[0m\u001b[1;33m)\u001b[0m\u001b[1;33m\u001b[0m\u001b[1;33m\u001b[0m\u001b[0m\n\u001b[0m",
      "\u001b[1;31mAttributeError\u001b[0m: 'ShuffleSplit' object has no attribute 'metrics'"
     ]
    }
   ],
   "source": [
    "from sklearn.model_selection import cross_val_predict\n",
    "\n",
    "n_samples = X.shape[0]\n",
    "cv = ShuffleSplit(n_splits=5, test_size=0.2, random_state=0)\n",
    "# cross_val_predict(model, X, y, cv=cv)\n",
    "print(cv.metrics)"
   ]
  },
  {
   "cell_type": "markdown",
   "metadata": {},
   "source": [
    "#### Rain/ No rain cloud droplet analysis"
   ]
  },
  {
   "cell_type": "code",
   "execution_count": 62,
   "metadata": {},
   "outputs": [],
   "source": [
    "# splitting data based on rain concentration\n",
    "# split the rain data based on the concentration value of 1000 #/m3. \n",
    "no_rain_data = df3[df3['rain_conc (#/cc)'] <= 1e-3] # units in #/cc.\n",
    "rain_data = df3[df3['rain_conc (#/cc)'] > 1e-3]\n"
   ]
  },
  {
   "cell_type": "code",
   "execution_count": 63,
   "metadata": {},
   "outputs": [
    {
     "data": {
      "image/png": "[encoded data removed]",
      "text/plain": [
       "<Figure size 864x432 with 4 Axes>"
      ]
     },
     "metadata": {
      "needs_background": "light"
     },
     "output_type": "display_data"
    }
   ],
   "source": [
    "# 2D histogram for rain data\n",
    "cdp_conc1 = rain_data['cdp_conc (#/cc)']\n",
    "cdp_mass1 = rain_data['cdp_mass (g/cc)']\n",
    "\n",
    "cdp_conc2 = no_rain_data['cdp_conc (#/cc)']\n",
    "cdp_mass2 = no_rain_data['cdp_mass (g/cc)']\n",
    "\n",
    "x1 = cdp_conc1\n",
    "y1 = cdp_mass1\n",
    "\n",
    "x2 = cdp_conc2\n",
    "y2 = cdp_mass2\n",
    "\n",
    "fig, (ax1, ax2) = plt.subplots(1, 2, figsize = (12,6))\n",
    "h1 = ax1.hist2d(x1, y1, bins = 100, range = [[min(x1), max(x1)], [min(y1), np.mean(y1)]])\n",
    "ax1.set_xlim(min(x1),750)\n",
    "ax1.set_ylim(min(y1), 6e-7)\n",
    "ax1.set_ylabel('cdp_mass (g/cc)')\n",
    "ax1.set_xlabel('cdp_conc (#/cc)')\n",
    "ax1.set_title('Rain Data plot')\n",
    "fig.colorbar(h1[3], ax=ax1)\n",
    "\n",
    "h2 = ax2.hist2d(x2, y2, bins = 150, range = [[min(x2), max(x2)], [min(y2), max(y2)]])\n",
    "ax2.set_xlim(min(x2),750)\n",
    "ax2.set_ylim(min(y2), 6e-7)\n",
    "ax2.set_ylabel('cdp_mass (g/cc)')\n",
    "ax2.set_xlabel('cdp_conc (#/cc)')\n",
    "ax2.set_title('No Rain Data plot')\n",
    "fig.colorbar(h2[3], ax=ax2)\n",
    "\n",
    "plt.tight_layout()"
   ]
  },
  {
   "cell_type": "code",
   "execution_count": 8,
   "metadata": {},
   "outputs": [
    {
     "data": {
      "image/png": "[encoded data removed]",
      "text/plain": [
       "<Figure size 432x288 with 1 Axes>"
      ]
     },
     "metadata": {
      "needs_background": "light"
     },
     "output_type": "display_data"
    }
   ],
   "source": [
    "# histograms plots for estimating how much rain is present in the observations. \n",
    "\n",
    "plt.hist(x1, bins = 30,range = (0,1000), label = 'rain')\n",
    "plt.hist(x2, bins = 30, range = (0,1000),alpha = 0.5, label = 'no_rain')\n",
    "plt.xlabel('cdp_conc (#/cc)')\n",
    "plt.ylabel('counts')\n",
    "plt.title('cdp_conc')\n",
    "plt.legend()\n",
    "plt.show()"
   ]
  },
  {
   "cell_type": "code",
   "execution_count": 9,
   "metadata": {},
   "outputs": [
    {
     "data": {
      "image/png": "[encoded data removed]",
      "text/plain": [
       "<Figure size 432x288 with 1 Axes>"
      ]
     },
     "metadata": {
      "needs_background": "light"
     },
     "output_type": "display_data"
    }
   ],
   "source": [
    "plt.hist(y1, label = 'rain')\n",
    "plt.hist(y2, alpha = 0.5, label = 'no_rain')\n",
    "plt.xlabel('ccn_conc (#/cc)')\n",
    "plt.ylabel('counts')\n",
    "plt.xticks(rotation = 45)\n",
    "plt.ticklabel_format(axis = 'x', scilimits = (-1,-3))\n",
    "plt.title('ccn_conc')\n",
    "plt.legend()\n",
    "plt.show()"
   ]
  },
  {
   "cell_type": "code",
   "execution_count": 16,
   "metadata": {},
   "outputs": [],
   "source": [
    "from sklearn.model_selection import train_test_split\n",
    "\n",
    "X = np.array(rain_data[['altitude (m)', 'cdp_conc (#/cc)', 'Velocity_mean (m/s)','Velocity_std (m/s)', 'cdp_mass (g/cc)']])\n",
    "y = rain_data['rain_mass (g/cc)']\n",
    "\n",
    "(X_train, X_test,\n",
    " y_train, y_test) = train_test_split(X, y,\n",
    "                                     test_size=0.2,\n",
    "                                     shuffle=True,\n",
    "                                     random_state=3)"
   ]
  },
  {
   "cell_type": "code",
   "execution_count": 68,
   "metadata": {},
   "outputs": [
    {
     "data": {
      "image/png": "[encoded data removed]",
      "text/plain": [
       "<Figure size 720x576 with 2 Axes>"
      ]
     },
     "metadata": {
      "needs_background": "light"
     },
     "output_type": "display_data"
    }
   ],
   "source": [
    "# covariance table for data with significant rain droplet concentration. \n",
    "\n",
    "a = rain_data.drop(columns = ['time (min)', 'ambient_temp (degC)', 'dew_pt (degC)', 'non-nan counter']).corr(method = 'pearson')\n",
    "sn.heatmap(a, cmap = 'rocket_r', center = 1, annot = True)\n",
    "plt.rcParams[\"figure.figsize\"] = (10, 8)\n",
    "plt.title('Covariance Table for Rain-only data')\n",
    "plt.show()\n"
   ]
  },
  {
   "cell_type": "markdown",
   "metadata": {},
   "source": [
    "#### Experimenting with other non-linear regression models like Decision Tree and Random Forest. "
   ]
  },
  {
   "cell_type": "code",
   "execution_count": 18,
   "metadata": {},
   "outputs": [
    {
     "data": {
      "text/plain": [
       "-1774.8735530521537"
      ]
     },
     "execution_count": 18,
     "metadata": {},
     "output_type": "execute_result"
    }
   ],
   "source": [
    "from sklearn.tree import DecisionTreeRegressor\n",
    "\n",
    "tree = DecisionTreeRegressor()\n",
    "tree.fit(X_train, y_train)\n",
    "\n",
    "tree.predict(X_test)\n",
    "tree.score(X_test, y_test)"
   ]
  },
  {
   "cell_type": "code",
   "execution_count": 20,
   "metadata": {},
   "outputs": [
    {
     "data": {
      "text/plain": [
       "-1774.8735530521537"
      ]
     },
     "execution_count": 20,
     "metadata": {},
     "output_type": "execute_result"
    }
   ],
   "source": [
    "from sklearn.ensemble import RandomForestRegressor\n",
    "\n",
    "forest = RandomForestRegressor(n_estimators=10, bootstrap=False, random_state=5)\n",
    "\n",
    "forest.fit(X_train, y_train)\n",
    "forest.predict(X_test)\n",
    "forest.score(X_test, y_test)"
   ]
  },
  {
   "cell_type": "markdown",
   "metadata": {},
   "source": [
    "### Hypothesis testing"
   ]
  },
  {
   "cell_type": "markdown",
   "metadata": {},
   "source": [
    "#### T vs z plot for inversion"
   ]
  },
  {
   "cell_type": "code",
   "execution_count": 69,
   "metadata": {},
   "outputs": [
    {
     "data": {
      "text/html": [
       "<div>\n",
       "<style scoped>\n",
       "    .dataframe tbody tr th:only-of-type {\n",
       "        vertical-align: middle;\n",
       "    }\n",
       "\n",
       "    .dataframe tbody tr th {\n",
       "        vertical-align: top;\n",
       "    }\n",
       "\n",
       "    .dataframe thead th {\n",
       "        text-align: right;\n",
       "    }\n",
       "</style>\n",
       "<table border=\"1\" class=\"dataframe\">\n",
       "  <thead>\n",
       "    <tr style=\"text-align: right;\">\n",
       "      <th></th>\n",
       "      <th>time (min)</th>\n",
       "      <th>cdp_conc (#/cc)</th>\n",
       "      <th>cdp_mass (g/cc)</th>\n",
       "      <th>ccn_conc (#/cc)</th>\n",
       "      <th>altitude (m)</th>\n",
       "      <th>ambient_temp (degC)</th>\n",
       "      <th>dew_pt (degC)</th>\n",
       "      <th>Velocity_mean (m/s)</th>\n",
       "      <th>Velocity_std (m/s)</th>\n",
       "      <th>non-nan counter</th>\n",
       "      <th>rain_conc (#/cc)</th>\n",
       "      <th>rain_mass (g/cc)</th>\n",
       "      <th>RH (%)</th>\n",
       "    </tr>\n",
       "  </thead>\n",
       "  <tbody>\n",
       "    <tr>\n",
       "      <th>0</th>\n",
       "      <td>1040</td>\n",
       "      <td>67.675925</td>\n",
       "      <td>1.394175e-07</td>\n",
       "      <td>112.032000</td>\n",
       "      <td>361.583333</td>\n",
       "      <td>24.068333</td>\n",
       "      <td>22.390000</td>\n",
       "      <td>-0.820250</td>\n",
       "      <td>0.130242</td>\n",
       "      <td>4</td>\n",
       "      <td>0.000000</td>\n",
       "      <td>0.000000e+00</td>\n",
       "      <td>90.356948</td>\n",
       "    </tr>\n",
       "    <tr>\n",
       "      <th>1</th>\n",
       "      <td>1039</td>\n",
       "      <td>43.753400</td>\n",
       "      <td>1.695218e-07</td>\n",
       "      <td>64.800000</td>\n",
       "      <td>557.050000</td>\n",
       "      <td>23.283333</td>\n",
       "      <td>20.943333</td>\n",
       "      <td>0.528500</td>\n",
       "      <td>0.104983</td>\n",
       "      <td>1</td>\n",
       "      <td>0.000000</td>\n",
       "      <td>0.000000e+00</td>\n",
       "      <td>86.712433</td>\n",
       "    </tr>\n",
       "    <tr>\n",
       "      <th>2</th>\n",
       "      <td>1115</td>\n",
       "      <td>48.729350</td>\n",
       "      <td>1.219569e-07</td>\n",
       "      <td>79.704545</td>\n",
       "      <td>586.733333</td>\n",
       "      <td>21.588333</td>\n",
       "      <td>20.248333</td>\n",
       "      <td>0.152250</td>\n",
       "      <td>0.035267</td>\n",
       "      <td>2</td>\n",
       "      <td>0.001534</td>\n",
       "      <td>0.000000e+00</td>\n",
       "      <td>92.091811</td>\n",
       "    </tr>\n",
       "    <tr>\n",
       "      <th>3</th>\n",
       "      <td>1060</td>\n",
       "      <td>28.722137</td>\n",
       "      <td>2.011212e-07</td>\n",
       "      <td>104.693103</td>\n",
       "      <td>587.633333</td>\n",
       "      <td>22.595000</td>\n",
       "      <td>23.261667</td>\n",
       "      <td>-0.459342</td>\n",
       "      <td>0.855725</td>\n",
       "      <td>19</td>\n",
       "      <td>0.112679</td>\n",
       "      <td>0.000000e+00</td>\n",
       "      <td>104.119572</td>\n",
       "    </tr>\n",
       "    <tr>\n",
       "      <th>4</th>\n",
       "      <td>1114</td>\n",
       "      <td>52.711633</td>\n",
       "      <td>1.454350e-07</td>\n",
       "      <td>76.741176</td>\n",
       "      <td>587.966667</td>\n",
       "      <td>21.640000</td>\n",
       "      <td>20.166667</td>\n",
       "      <td>0.104711</td>\n",
       "      <td>0.185076</td>\n",
       "      <td>3</td>\n",
       "      <td>0.000783</td>\n",
       "      <td>0.000000e+00</td>\n",
       "      <td>91.339029</td>\n",
       "    </tr>\n",
       "    <tr>\n",
       "      <th>...</th>\n",
       "      <td>...</td>\n",
       "      <td>...</td>\n",
       "      <td>...</td>\n",
       "      <td>...</td>\n",
       "      <td>...</td>\n",
       "      <td>...</td>\n",
       "      <td>...</td>\n",
       "      <td>...</td>\n",
       "      <td>...</td>\n",
       "      <td>...</td>\n",
       "      <td>...</td>\n",
       "      <td>...</td>\n",
       "      <td>...</td>\n",
       "    </tr>\n",
       "    <tr>\n",
       "      <th>576</th>\n",
       "      <td>1041</td>\n",
       "      <td>64.223822</td>\n",
       "      <td>3.003772e-07</td>\n",
       "      <td>137.113043</td>\n",
       "      <td>5669.283333</td>\n",
       "      <td>-6.058333</td>\n",
       "      <td>-9.260000</td>\n",
       "      <td>2.410944</td>\n",
       "      <td>0.979870</td>\n",
       "      <td>9</td>\n",
       "      <td>0.282132</td>\n",
       "      <td>5.079032e-08</td>\n",
       "      <td>78.071209</td>\n",
       "    </tr>\n",
       "    <tr>\n",
       "      <th>577</th>\n",
       "      <td>1045</td>\n",
       "      <td>34.903100</td>\n",
       "      <td>1.519382e-07</td>\n",
       "      <td>186.536207</td>\n",
       "      <td>5780.066667</td>\n",
       "      <td>-8.015000</td>\n",
       "      <td>-13.271667</td>\n",
       "      <td>1.089500</td>\n",
       "      <td>0.017775</td>\n",
       "      <td>1</td>\n",
       "      <td>0.000000</td>\n",
       "      <td>0.000000e+00</td>\n",
       "      <td>65.903545</td>\n",
       "    </tr>\n",
       "    <tr>\n",
       "      <th>578</th>\n",
       "      <td>1043</td>\n",
       "      <td>84.528400</td>\n",
       "      <td>7.576585e-07</td>\n",
       "      <td>162.792453</td>\n",
       "      <td>5809.600000</td>\n",
       "      <td>-8.041667</td>\n",
       "      <td>-10.925000</td>\n",
       "      <td>1.837099</td>\n",
       "      <td>0.308029</td>\n",
       "      <td>4</td>\n",
       "      <td>0.000021</td>\n",
       "      <td>1.862939e-11</td>\n",
       "      <td>79.737525</td>\n",
       "    </tr>\n",
       "    <tr>\n",
       "      <th>579</th>\n",
       "      <td>1044</td>\n",
       "      <td>73.727075</td>\n",
       "      <td>5.766109e-07</td>\n",
       "      <td>155.333333</td>\n",
       "      <td>5816.183333</td>\n",
       "      <td>-8.351667</td>\n",
       "      <td>-12.308333</td>\n",
       "      <td>3.934125</td>\n",
       "      <td>1.480924</td>\n",
       "      <td>4</td>\n",
       "      <td>0.000468</td>\n",
       "      <td>7.077102e-10</td>\n",
       "      <td>73.125344</td>\n",
       "    </tr>\n",
       "    <tr>\n",
       "      <th>580</th>\n",
       "      <td>1093</td>\n",
       "      <td>8.986872</td>\n",
       "      <td>1.338427e-07</td>\n",
       "      <td>10.700000</td>\n",
       "      <td>6448.366667</td>\n",
       "      <td>-6.660000</td>\n",
       "      <td>-5.773333</td>\n",
       "      <td>-3.142318</td>\n",
       "      <td>1.813577</td>\n",
       "      <td>31</td>\n",
       "      <td>2.075581</td>\n",
       "      <td>1.732577e-06</td>\n",
       "      <td>107.006612</td>\n",
       "    </tr>\n",
       "  </tbody>\n",
       "</table>\n",
       "<p>581 rows × 13 columns</p>\n",
       "</div>"
      ],
      "text/plain": [
       "     time (min)  cdp_conc (#/cc)  cdp_mass (g/cc)  ccn_conc (#/cc)  \\\n",
       "0          1040        67.675925     1.394175e-07       112.032000   \n",
       "1          1039        43.753400     1.695218e-07        64.800000   \n",
       "2          1115        48.729350     1.219569e-07        79.704545   \n",
       "3          1060        28.722137     2.011212e-07       104.693103   \n",
       "4          1114        52.711633     1.454350e-07        76.741176   \n",
       "..          ...              ...              ...              ...   \n",
       "576        1041        64.223822     3.003772e-07       137.113043   \n",
       "577        1045        34.903100     1.519382e-07       186.536207   \n",
       "578        1043        84.528400     7.576585e-07       162.792453   \n",
       "579        1044        73.727075     5.766109e-07       155.333333   \n",
       "580        1093         8.986872     1.338427e-07        10.700000   \n",
       "\n",
       "     altitude (m)  ambient_temp (degC)  dew_pt (degC)  Velocity_mean (m/s)  \\\n",
       "0      361.583333            24.068333      22.390000            -0.820250   \n",
       "1      557.050000            23.283333      20.943333             0.528500   \n",
       "2      586.733333            21.588333      20.248333             0.152250   \n",
       "3      587.633333            22.595000      23.261667            -0.459342   \n",
       "4      587.966667            21.640000      20.166667             0.104711   \n",
       "..            ...                  ...            ...                  ...   \n",
       "576   5669.283333            -6.058333      -9.260000             2.410944   \n",
       "577   5780.066667            -8.015000     -13.271667             1.089500   \n",
       "578   5809.600000            -8.041667     -10.925000             1.837099   \n",
       "579   5816.183333            -8.351667     -12.308333             3.934125   \n",
       "580   6448.366667            -6.660000      -5.773333            -3.142318   \n",
       "\n",
       "     Velocity_std (m/s)  non-nan counter  rain_conc (#/cc)  rain_mass (g/cc)  \\\n",
       "0              0.130242                4          0.000000      0.000000e+00   \n",
       "1              0.104983                1          0.000000      0.000000e+00   \n",
       "2              0.035267                2          0.001534      0.000000e+00   \n",
       "3              0.855725               19          0.112679      0.000000e+00   \n",
       "4              0.185076                3          0.000783      0.000000e+00   \n",
       "..                  ...              ...               ...               ...   \n",
       "576            0.979870                9          0.282132      5.079032e-08   \n",
       "577            0.017775                1          0.000000      0.000000e+00   \n",
       "578            0.308029                4          0.000021      1.862939e-11   \n",
       "579            1.480924                4          0.000468      7.077102e-10   \n",
       "580            1.813577               31          2.075581      1.732577e-06   \n",
       "\n",
       "         RH (%)  \n",
       "0     90.356948  \n",
       "1     86.712433  \n",
       "2     92.091811  \n",
       "3    104.119572  \n",
       "4     91.339029  \n",
       "..          ...  \n",
       "576   78.071209  \n",
       "577   65.903545  \n",
       "578   79.737525  \n",
       "579   73.125344  \n",
       "580  107.006612  \n",
       "\n",
       "[581 rows x 13 columns]"
      ]
     },
     "execution_count": 69,
     "metadata": {},
     "output_type": "execute_result"
    }
   ],
   "source": [
    "df4 = df3.sort_values('altitude (m)').reset_index(drop=True)\n",
    "df4"
   ]
  },
  {
   "cell_type": "code",
   "execution_count": 105,
   "metadata": {},
   "outputs": [
    {
     "data": {
      "image/png": "[encoded data removed]",
      "text/plain": [
       "<Figure size 504x360 with 1 Axes>"
      ]
     },
     "metadata": {
      "needs_background": "light"
     },
     "output_type": "display_data"
    }
   ],
   "source": [
    "y = df4['altitude (m)']\n",
    "x = df4['ambient_temp (degC)']\n",
    "\n",
    "plt.figure(figsize = (7, 5))\n",
    "plt.plot(x, y, 'k--')\n",
    "plt.xlabel('Temperature $\\Theta$')\n",
    "plt.ylabel('Altitide (m)')\n",
    "plt.title('Adiabatic Lapse Rate evaluation plot (z vs $\\Theta$)')\n",
    "plt.show()"
   ]
  },
  {
   "cell_type": "code",
   "execution_count": 95,
   "metadata": {},
   "outputs": [
    {
     "name": "stdout",
     "output_type": "stream",
     "text": [
      "Maximum altitde the aircraft reached: 6448.4 m,\n",
      "Minimum altitide recorded: 361.6 m\n"
     ]
    }
   ],
   "source": [
    "print(f'Maximum altitde the aircraft reached: {max(y):1.1f} m,\\nMinimum altitide recorded: {min(y):1.1f} m')"
   ]
  },
  {
   "cell_type": "markdown",
   "metadata": {},
   "source": [
    "#### Neural Network with log values of rain mass and conc"
   ]
  },
  {
   "cell_type": "code",
   "execution_count": 41,
   "metadata": {},
   "outputs": [],
   "source": [
    "X = np.vstack((np.array(df3['ccn_conc (#/cc)']), \n",
    "               np.array(df3['cdp_mass (g/cc)']), \n",
    "               np.array(df3['Velocity_mean (m/s)']), \n",
    "               np.array(df3['Velocity_std (m/s)']), \n",
    "               np.array(df3['altitude (m)']), \n",
    "               np.array(df3['RH (%)']),\n",
    "               np.array(df3['rain_conc (#/cc)']),\n",
    "               np.array(df3['rain_mass (g/cc)'])\n",
    "              )).T\n",
    "\n",
    "y = np.array(df3['cdp_conc (#/cc)'])\n"
   ]
  },
  {
   "cell_type": "code",
   "execution_count": 42,
   "metadata": {},
   "outputs": [],
   "source": [
    "from sklearn.neural_network import MLPRegressor\n",
    "from sklearn.model_selection import train_test_split\n",
    "from sklearn import preprocessing\n",
    "from sklearn.pipeline import Pipeline\n",
    "from sklearn.model_selection import KFold"
   ]
  },
  {
   "cell_type": "code",
   "execution_count": 43,
   "metadata": {},
   "outputs": [
    {
     "name": "stdout",
     "output_type": "stream",
     "text": [
      "-1.1257661469699087e-13 -2.992846455967014\n",
      "0.6651789222720736 -6.081303575682377\n",
      "0.6843120018087425 0.11560140866518286\n",
      "0.7207464217667074 0.06878933764849704\n",
      "0.7800522437082702 -0.8746973112226015\n"
     ]
    }
   ],
   "source": [
    "scaler = preprocessing.MinMaxScaler()\n",
    "model =  MLPRegressor(hidden_layer_sizes=(6,6), max_iter = 150, activation='relu', solver='lbfgs', alpha = 0.05, learning_rate = 'adaptive')\n",
    "\n",
    "pipe = Pipeline([('scale', scaler),\n",
    "                 ('NN', model)])\n",
    "\n",
    "kf = KFold(n_splits=5)\n",
    "\n",
    "for train, test in kf.split(X):\n",
    "    pipe.fit(X[train], y[train])\n",
    "    print(pipe.score(X[train], y[train]), pipe.score(X[test], y[test]))"
   ]
  },
  {
   "cell_type": "code",
   "execution_count": 44,
   "metadata": {},
   "outputs": [
    {
     "name": "stdout",
     "output_type": "stream",
     "text": [
      "Train  Test\n",
      "0.591, 0.153\n",
      "0.537, 0.260\n",
      "0.583, -0.083\n",
      "0.568, 0.163\n",
      "0.642, 0.163\n"
     ]
    }
   ],
   "source": [
    "model =  MLPRegressor(hidden_layer_sizes=(6,6), max_iter = 150, \n",
    "                      activation='relu', solver='lbfgs', \n",
    "                      alpha = 0.05, learning_rate = 'adaptive')\n",
    "\n",
    "kf = KFold(n_splits=5)\n",
    "\n",
    "print('Train  Test')\n",
    "for train, test in kf.split(X):\n",
    "    model.fit(X[train], y[train])\n",
    "    print(f'{model.score(X[train], y[train]):1.3f}, {model.score(X[test], y[test]):1.3f}')"
   ]
  },
  {
   "cell_type": "markdown",
   "metadata": {},
   "source": [
    "#### Dividing the data based on altitude"
   ]
  },
  {
   "cell_type": "code",
   "execution_count": 66,
   "metadata": {},
   "outputs": [],
   "source": [
    "range1 = df4.loc[df4['altitude (m)'] < 650]"
   ]
  },
  {
   "cell_type": "code",
   "execution_count": 75,
   "metadata": {},
   "outputs": [],
   "source": [
    "range2 = df4.loc[(df4['altitude (m)'] > 650) & (df4['altitude (m)'] < 1200)]"
   ]
  },
  {
   "cell_type": "code",
   "execution_count": 76,
   "metadata": {},
   "outputs": [],
   "source": [
    "range3 = df4.loc[(df4['altitude (m)'] > 1200) & (df4['altitude (m)'] < 2000)]"
   ]
  },
  {
   "cell_type": "code",
   "execution_count": 82,
   "metadata": {},
   "outputs": [],
   "source": [
    "range4 = df4.loc[df4['altitude (m)'] > 2000]"
   ]
  },
  {
   "cell_type": "code",
   "execution_count": 77,
   "metadata": {},
   "outputs": [
    {
     "data": {
      "text/plain": [
       "182"
      ]
     },
     "execution_count": 77,
     "metadata": {},
     "output_type": "execute_result"
    }
   ],
   "source": [
    "len(range1)"
   ]
  },
  {
   "cell_type": "code",
   "execution_count": 88,
   "metadata": {},
   "outputs": [
    {
     "name": "stdout",
     "output_type": "stream",
     "text": [
      "R^2: 0.432\n",
      "Intercept: 0.0\n",
      "coefficients: \n",
      "[ 6.67298950e-01  5.01346336e+07 -4.26970838e+00 -5.71282029e+00\n",
      "  1.24078728e-01 -9.56433603e-01 -9.04779048e+00 -4.85899124e+07]\n"
     ]
    }
   ],
   "source": [
    "X = np.vstack((np.array(range1['ccn_conc (#/cc)']), \n",
    "               np.array(range1['cdp_mass (g/cc)']), \n",
    "               np.array(range1['Velocity_mean (m/s)']), \n",
    "               np.array(range1['Velocity_std (m/s)']), \n",
    "               np.array(range1['altitude (m)']), \n",
    "               np.array(range1['RH (%)']),\n",
    "               np.array(range1['rain_conc (#/cc)']),\n",
    "               np.array(range1['rain_mass (g/cc)'])\n",
    "              )).T\n",
    "\n",
    "y = np.array(range1['cdp_conc (#/cc)'])\n",
    "\n",
    "reg = LinearRegression(fit_intercept = False).fit(X, y)\n",
    "c1 = reg.coef_ \n",
    "print(f'R^2: {reg.score(X, y):1.3f}')\n",
    "print(f'Intercept: {reg.intercept_}')\n",
    "print(f'coefficients: \\n{reg.coef_}')\n"
   ]
  },
  {
   "cell_type": "code",
   "execution_count": 78,
   "metadata": {},
   "outputs": [
    {
     "data": {
      "text/plain": [
       "118"
      ]
     },
     "execution_count": 78,
     "metadata": {},
     "output_type": "execute_result"
    }
   ],
   "source": [
    "len(range2)"
   ]
  },
  {
   "cell_type": "code",
   "execution_count": 89,
   "metadata": {},
   "outputs": [
    {
     "name": "stdout",
     "output_type": "stream",
     "text": [
      "R^2: 0.812\n",
      "Intercept: 0.0\n",
      "coefficients: \n",
      "[ 8.29223013e-01  1.88739867e+08  2.68391618e-01  3.75030227e-01\n",
      "  3.00310850e-02 -6.23321293e-01 -2.03340285e+03 -2.46035865e+08]\n"
     ]
    }
   ],
   "source": [
    "X = np.vstack((np.array(range2['ccn_conc (#/cc)']), \n",
    "               np.array(range2['cdp_mass (g/cc)']), \n",
    "               np.array(range2['Velocity_mean (m/s)']), \n",
    "               np.array(range2['Velocity_std (m/s)']), \n",
    "               np.array(range2['altitude (m)']), \n",
    "               np.array(range2['RH (%)']),\n",
    "               np.array(range2['rain_conc (#/cc)']),\n",
    "               np.array(range2['rain_mass (g/cc)'])\n",
    "              )).T\n",
    "\n",
    "y = np.array(range2['cdp_conc (#/cc)'])\n",
    "\n",
    "reg = LinearRegression(fit_intercept = False).fit(X, y)\n",
    "c2 = reg.coef_  \n",
    "print(f'R^2: {reg.score(X, y):1.3f}')\n",
    "print(f'Intercept: {reg.intercept_}')\n",
    "print(f'coefficients: \\n{reg.coef_}')\n"
   ]
  },
  {
   "cell_type": "code",
   "execution_count": 79,
   "metadata": {},
   "outputs": [
    {
     "data": {
      "text/plain": [
       "175"
      ]
     },
     "execution_count": 79,
     "metadata": {},
     "output_type": "execute_result"
    }
   ],
   "source": [
    "len(range3)"
   ]
  },
  {
   "cell_type": "code",
   "execution_count": 90,
   "metadata": {},
   "outputs": [
    {
     "name": "stdout",
     "output_type": "stream",
     "text": [
      "R^2: 0.379\n",
      "Intercept: 0.0\n",
      "coefficients: \n",
      "[ 5.88015995e-01  1.26732845e+08 -6.36202908e+00  3.26991657e+01\n",
      " -1.30477592e-01  1.55981509e+00 -1.20077566e+01 -7.17659616e+04]\n"
     ]
    }
   ],
   "source": [
    "X = np.vstack((np.array(range3['ccn_conc (#/cc)']), \n",
    "               np.array(range3['cdp_mass (g/cc)']), \n",
    "               np.array(range3['Velocity_mean (m/s)']), \n",
    "               np.array(range3['Velocity_std (m/s)']), \n",
    "               np.array(range3['altitude (m)']), \n",
    "               np.array(range3['RH (%)']),\n",
    "               np.array(range3['rain_conc (#/cc)']),\n",
    "               np.array(range3['rain_mass (g/cc)'])\n",
    "              )).T\n",
    "\n",
    "y = np.array(range3['cdp_conc (#/cc)'])\n",
    "\n",
    "reg = LinearRegression(fit_intercept = False).fit(X, y)\n",
    "c3 = reg.coef_ \n",
    "print(f'R^2: {reg.score(X, y):1.3f}')\n",
    "print(f'Intercept: {reg.intercept_}')\n",
    "print(f'coefficients: \\n{reg.coef_}')\n"
   ]
  },
  {
   "cell_type": "code",
   "execution_count": 83,
   "metadata": {},
   "outputs": [
    {
     "data": {
      "text/plain": [
       "106"
      ]
     },
     "execution_count": 83,
     "metadata": {},
     "output_type": "execute_result"
    }
   ],
   "source": [
    "len(range4)"
   ]
  },
  {
   "cell_type": "code",
   "execution_count": 91,
   "metadata": {},
   "outputs": [
    {
     "name": "stdout",
     "output_type": "stream",
     "text": [
      "R^2: 0.701\n",
      "Intercept: 0.0\n",
      "coefficients: \n",
      "[ 3.67205467e-01  1.62309330e+08 -2.61758830e+01  4.03369140e+00\n",
      " -1.52027011e-02  7.23324511e-02 -1.58880805e+01  1.37196372e+07]\n"
     ]
    }
   ],
   "source": [
    "X = np.vstack((np.array(range4['ccn_conc (#/cc)']), \n",
    "               np.array(range4['cdp_mass (g/cc)']), \n",
    "               np.array(range4['Velocity_mean (m/s)']), \n",
    "               np.array(range4['Velocity_std (m/s)']), \n",
    "               np.array(range4['altitude (m)']), \n",
    "               np.array(range4['RH (%)']),\n",
    "               np.array(range4['rain_conc (#/cc)']),\n",
    "               np.array(range4['rain_mass (g/cc)'])\n",
    "              )).T\n",
    "\n",
    "y = np.array(range4['cdp_conc (#/cc)'])\n",
    "\n",
    "reg = LinearRegression(fit_intercept = False).fit(X, y)\n",
    "c4 = reg.coef_  \n",
    "print(f'R^2: {reg.score(X, y):1.3f}')\n",
    "print(f'Intercept: {reg.intercept_}')\n",
    "print(f'coefficients: \\n{reg.coef_}')\n"
   ]
  },
  {
   "cell_type": "code",
   "execution_count": 105,
   "metadata": {},
   "outputs": [
    {
     "data": {
      "text/plain": [
       "(8, 4)"
      ]
     },
     "execution_count": 105,
     "metadata": {},
     "output_type": "execute_result"
    }
   ],
   "source": [
    "c = np.array([c1, c2,c3, c4]).T\n",
    "c.shape"
   ]
  },
  {
   "cell_type": "code",
   "execution_count": 106,
   "metadata": {},
   "outputs": [
    {
     "data": {
      "text/plain": [
       "array([[ 6.67298950e-01,  8.29223013e-01,  5.88015995e-01,\n",
       "         3.67205467e-01],\n",
       "       [ 5.01346336e+07,  1.88739867e+08,  1.26732845e+08,\n",
       "         1.62309330e+08],\n",
       "       [-4.26970838e+00,  2.68391618e-01, -6.36202908e+00,\n",
       "        -2.61758830e+01],\n",
       "       [-5.71282029e+00,  3.75030227e-01,  3.26991657e+01,\n",
       "         4.03369140e+00],\n",
       "       [ 1.24078728e-01,  3.00310850e-02, -1.30477592e-01,\n",
       "        -1.52027011e-02],\n",
       "       [-9.56433603e-01, -6.23321293e-01,  1.55981509e+00,\n",
       "         7.23324511e-02],\n",
       "       [-9.04779048e+00, -2.03340285e+03, -1.20077566e+01,\n",
       "        -1.58880805e+01],\n",
       "       [-4.85899124e+07, -2.46035865e+08, -7.17659616e+04,\n",
       "         1.37196372e+07]])"
      ]
     },
     "execution_count": 106,
     "metadata": {},
     "output_type": "execute_result"
    }
   ],
   "source": [
    "c"
   ]
  },
  {
   "cell_type": "code",
   "execution_count": 108,
   "metadata": {},
   "outputs": [
    {
     "data": {
      "text/plain": [
       "[<matplotlib.lines.Line2D at 0x255aeee42b0>]"
      ]
     },
     "execution_count": 108,
     "metadata": {},
     "output_type": "execute_result"
    },
    {
     "data": {
      "image/png": "[encoded data removed]",
      "text/plain": [
       "<Figure size 432x288 with 1 Axes>"
      ]
     },
     "metadata": {
      "needs_background": "light"
     },
     "output_type": "display_data"
    }
   ],
   "source": [
    "plt.title('ccn_conc')\n",
    "plt.plot([650, 1200, 2000, 3000], c[0])\n"
   ]
  },
  {
   "cell_type": "code",
   "execution_count": 109,
   "metadata": {},
   "outputs": [
    {
     "data": {
      "text/plain": [
       "[<matplotlib.lines.Line2D at 0x255aef4dc88>]"
      ]
     },
     "execution_count": 109,
     "metadata": {},
     "output_type": "execute_result"
    },
    {
     "data": {
      "image/png": "[encoded data removed]",
      "text/plain": [
       "<Figure size 432x288 with 1 Axes>"
      ]
     },
     "metadata": {
      "needs_background": "light"
     },
     "output_type": "display_data"
    }
   ],
   "source": [
    "plt.title('cdp_mass')\n",
    "plt.plot([650, 1200, 2000, 3000], c[1])"
   ]
  }
 ],
 "metadata": {
  "kernelspec": {
   "display_name": "Python 3",
   "language": "python",
   "name": "python3"
  },
  "language_info": {
   "codemirror_mode": {
    "name": "ipython",
    "version": 3
   },
   "file_extension": ".py",
   "mimetype": "text/x-python",
   "name": "python",
   "nbconvert_exporter": "python",
   "pygments_lexer": "ipython3",
   "version": "3.7.3"
  }
 },
 "nbformat": 4,
 "nbformat_minor": 2
}
